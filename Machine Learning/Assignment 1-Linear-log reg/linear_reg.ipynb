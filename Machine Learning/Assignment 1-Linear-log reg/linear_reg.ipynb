{
 "cells": [
  {
   "cell_type": "code",
   "execution_count": 1,
   "id": "miniature-cursor",
   "metadata": {},
   "outputs": [],
   "source": [
    "import numpy as np\n",
    "import matplotlib.pyplot as plt\n",
    "from sklearn import datasets\n",
    "from itertools import combinations\n",
    "from sklearn.linear_model import LogisticRegression, LinearRegression\n",
    "from sklearn.model_selection import train_test_split\n",
    "%matplotlib notebook\n",
    "import warnings\n",
    "warnings.filterwarnings(\"ignore\")\n",
    "from sklearn import preprocessing\n",
    "import pandas as pd\n",
    "\n",
    "from sklearn.metrics import mean_squared_error\n",
    "from sklearn.linear_model import Ridge\n",
    "from sklearn.linear_model import LogisticRegression"
   ]
  },
  {
   "cell_type": "code",
   "execution_count": 2,
   "id": "electric-animation",
   "metadata": {},
   "outputs": [],
   "source": [
    "iris_datset=datasets.load_iris()"
   ]
  },
  {
   "cell_type": "code",
   "execution_count": 3,
   "id": "neural-newsletter",
   "metadata": {},
   "outputs": [
    {
     "name": "stdout",
     "output_type": "stream",
     "text": [
      "['sepal length (cm)', 'sepal width (cm)', 'petal length (cm)', 'petal width (cm)']\n"
     ]
    }
   ],
   "source": [
    "x=iris_datset.data\n",
    "fea=iris_datset.feature_names\n",
    "print(fea)"
   ]
  },
  {
   "cell_type": "code",
   "execution_count": 4,
   "id": "attached-typing",
   "metadata": {},
   "outputs": [],
   "source": [
    "sepal_length=x[:,0]\n",
    "sepal_width=x[:,1]\n",
    "petal_length=x[:,2]\n",
    "petal_width=x[:,3]"
   ]
  },
  {
   "cell_type": "code",
   "execution_count": null,
   "id": "posted-friendly",
   "metadata": {},
   "outputs": [],
   "source": []
  },
  {
   "cell_type": "code",
   "execution_count": null,
   "id": "welsh-abraham",
   "metadata": {},
   "outputs": [],
   "source": []
  },
  {
   "cell_type": "code",
   "execution_count": null,
   "id": "hundred-treasure",
   "metadata": {},
   "outputs": [],
   "source": []
  },
  {
   "cell_type": "code",
   "execution_count": null,
   "id": "quarterly-listing",
   "metadata": {},
   "outputs": [],
   "source": []
  },
  {
   "cell_type": "code",
   "execution_count": 153,
   "id": "altered-portable",
   "metadata": {},
   "outputs": [],
   "source": [
    "def MyCustomSGD(x,learning_rate,n_iter,k,divideby,y):\n",
    "    \n",
    "    # Initially we will keep our W and B as 0 as per the Training Data\n",
    "    w=np.zeros(shape=(1,x.shape[1]))\n",
    "    print(y.shape,'y-shape')\n",
    "    print(x.shape,'x-shape')\n",
    "    #print(w)\n",
    "    #x=x.reshape(-1,1)\n",
    "    b=0\n",
    "    cur_iter=1\n",
    "   \n",
    "    print(type(x),'x-type')\n",
    "    print(w.shape,'w')\n",
    "    while(cur_iter<=n_iter): \n",
    "\n",
    "        # We will create a small training data set of size K\n",
    "        x=x.sample(k)\n",
    "        y=y.sample(k)\n",
    "        # We create our X and Y from the above temp dataset\n",
    "        #print(temp)\n",
    "        \n",
    "        # We keep our initial gradients as 0\n",
    "        w_gradient=np.zeros(shape=(1,x.shape[1]))\n",
    "        b_gradient=0\n",
    "        \n",
    "        for i in range(k): # Calculating gradients for point in our K sized dataset\n",
    "            prediction=np.dot(x,w)+b\n",
    "            #print(prediction.shape,'prediction')\n",
    "            news=np.dot(x.transpose(),(y-prediction))\n",
    "        #print(news.shape,'newww')\n",
    "        w_gradient=w_gradient+(-2)*news\n",
    "        #print(w_gradient.shape,'W-GRAD')\n",
    "        b_gradient=b_gradient+(-2)*(y-(prediction))\n",
    "        #print(b_gradient.shape,\"BBBBBBBBB\")\n",
    "        \n",
    "        #Updating the weights(W) and Bias(b) with the above calculated Gradients\n",
    "        w=w-learning_rate*(w_gradient/k)\n",
    "        b=b-learning_rate*(b_gradient/k)\n",
    "        \n",
    "        # Incrementing the iteration value\n",
    "        cur_iter=cur_iter+1\n",
    "        \n",
    "        #Dividing the learning rate by the specified value\n",
    "        learning_rate=learning_rate/divideby\n",
    "        #print(learning_rate,'learning-rate')\n",
    "        \n",
    "    return w,b\n",
    "        \n",
    "        \n",
    "def predict(x,w,b):\n",
    "    y_pred=[]\n",
    "    for i in range(len(x)):\n",
    "        y=np.asscalar(np.dot(w,x[i])+b)\n",
    "        y_pred.append(y)\n",
    "    return np.array(y_pred)\n",
    "        "
   ]
  },
  {
   "cell_type": "code",
   "execution_count": null,
   "id": "emerging-wireless",
   "metadata": {},
   "outputs": [],
   "source": []
  },
  {
   "cell_type": "code",
   "execution_count": null,
   "id": "coordinated-festival",
   "metadata": {},
   "outputs": [],
   "source": []
  },
  {
   "cell_type": "code",
   "execution_count": null,
   "id": "ceramic-sector",
   "metadata": {},
   "outputs": [],
   "source": []
  },
  {
   "cell_type": "code",
   "execution_count": null,
   "id": "considerable-craft",
   "metadata": {},
   "outputs": [],
   "source": []
  },
  {
   "cell_type": "code",
   "execution_count": null,
   "id": "compressed-strike",
   "metadata": {},
   "outputs": [],
   "source": []
  },
  {
   "cell_type": "code",
   "execution_count": null,
   "id": "hindu-tobago",
   "metadata": {},
   "outputs": [],
   "source": []
  },
  {
   "cell_type": "code",
   "execution_count": null,
   "id": "honey-treasurer",
   "metadata": {},
   "outputs": [],
   "source": []
  },
  {
   "cell_type": "code",
   "execution_count": 172,
   "id": "promotional-hayes",
   "metadata": {},
   "outputs": [],
   "source": [
    "\n",
    "def pred(b,w,x_test):\n",
    "    y_pred=[]\n",
    "    for i in x_test:\n",
    "        #print(w)\n",
    "        pred=w[0]*i+b\n",
    "        y_pred.append(pred)\n",
    "    return np.array(y_pred)\n",
    "\n"
   ]
  },
  {
   "cell_type": "code",
   "execution_count": null,
   "id": "global-reach",
   "metadata": {},
   "outputs": [],
   "source": []
  },
  {
   "cell_type": "code",
   "execution_count": null,
   "id": "romance-slovak",
   "metadata": {},
   "outputs": [],
   "source": []
  },
  {
   "cell_type": "code",
   "execution_count": null,
   "id": "clean-virus",
   "metadata": {},
   "outputs": [],
   "source": []
  },
  {
   "cell_type": "code",
   "execution_count": null,
   "id": "convertible-arrest",
   "metadata": {},
   "outputs": [],
   "source": []
  },
  {
   "cell_type": "code",
   "execution_count": null,
   "id": "proud-implement",
   "metadata": {},
   "outputs": [],
   "source": []
  },
  {
   "cell_type": "code",
   "execution_count": null,
   "id": "hispanic-lying",
   "metadata": {},
   "outputs": [],
   "source": []
  },
  {
   "cell_type": "code",
   "execution_count": null,
   "id": "unavailable-charter",
   "metadata": {},
   "outputs": [],
   "source": []
  },
  {
   "cell_type": "code",
   "execution_count": null,
   "id": "damaged-bradley",
   "metadata": {},
   "outputs": [],
   "source": []
  },
  {
   "cell_type": "code",
   "execution_count": null,
   "id": "ready-vegetarian",
   "metadata": {},
   "outputs": [],
   "source": []
  },
  {
   "cell_type": "code",
   "execution_count": null,
   "id": "adopted-hearts",
   "metadata": {},
   "outputs": [],
   "source": []
  },
  {
   "cell_type": "code",
   "execution_count": null,
   "id": "floral-nitrogen",
   "metadata": {},
   "outputs": [],
   "source": []
  },
  {
   "cell_type": "code",
   "execution_count": null,
   "id": "ancient-timothy",
   "metadata": {},
   "outputs": [],
   "source": []
  },
  {
   "cell_type": "code",
   "execution_count": null,
   "id": "vertical-joining",
   "metadata": {},
   "outputs": [],
   "source": []
  },
  {
   "cell_type": "code",
   "execution_count": null,
   "id": "fewer-disease",
   "metadata": {},
   "outputs": [],
   "source": []
  },
  {
   "cell_type": "code",
   "execution_count": null,
   "id": "middle-ranking",
   "metadata": {},
   "outputs": [],
   "source": []
  },
  {
   "cell_type": "code",
   "execution_count": null,
   "id": "exceptional-running",
   "metadata": {},
   "outputs": [],
   "source": []
  },
  {
   "cell_type": "code",
   "execution_count": null,
   "id": "adequate-location",
   "metadata": {},
   "outputs": [],
   "source": []
  },
  {
   "cell_type": "code",
   "execution_count": null,
   "id": "ordered-playlist",
   "metadata": {},
   "outputs": [],
   "source": []
  },
  {
   "cell_type": "code",
   "execution_count": null,
   "id": "starting-attention",
   "metadata": {},
   "outputs": [],
   "source": []
  },
  {
   "cell_type": "code",
   "execution_count": null,
   "id": "silent-feelings",
   "metadata": {},
   "outputs": [],
   "source": []
  },
  {
   "cell_type": "code",
   "execution_count": null,
   "id": "floating-recovery",
   "metadata": {},
   "outputs": [],
   "source": []
  },
  {
   "cell_type": "code",
   "execution_count": null,
   "id": "secure-sending",
   "metadata": {},
   "outputs": [],
   "source": []
  },
  {
   "cell_type": "code",
   "execution_count": null,
   "id": "south-pocket",
   "metadata": {},
   "outputs": [],
   "source": []
  },
  {
   "cell_type": "code",
   "execution_count": null,
   "id": "located-catholic",
   "metadata": {},
   "outputs": [],
   "source": []
  },
  {
   "cell_type": "code",
   "execution_count": 173,
   "id": "intelligent-sarah",
   "metadata": {},
   "outputs": [
    {
     "name": "stdout",
     "output_type": "stream",
     "text": [
      "(135, 1) y-shape\n",
      "(135, 1) x-shape\n",
      "<class 'pandas.core.frame.DataFrame'> x-type\n",
      "(1, 1) w\n",
      "Final Mean Squared Error : 10.324605273406986\n",
      "Error using L2 Regularization 44.72911110331912\n"
     ]
    }
   ],
   "source": [
    "X_train,X_test,y_train,y_test=train_test_split(sepal_length,sepal_width,test_size=0.1)\n",
    "\n",
    "scaler = preprocessing.StandardScaler().fit(X_train.reshape(-1,1))\n",
    "X_train = scaler.transform(X_train.reshape(-1,1))\n",
    "X_test=scaler.transform(X_test.reshape(-1,1))\n",
    "y_train = scaler.transform(y_train.reshape(-1,1))\n",
    "X_train=pd.DataFrame(X_train)\n",
    "y_train=pd.DataFrame(y_train)\n",
    "#print(X_train)\n",
    "#X_train=X_train[:100]\n",
    "#print(type(X_train),type(y_train),'XXXXX')\n",
    "w,b=MyCustomSGD(X_train,learning_rate=0.001,n_iter=100,divideby=1,k=32,y=y_train)\n",
    "#print('fwork')\n",
    "res=pred(b,w,X_test)\n",
    "#print(res,'res')\n",
    "b=np.prod(b)\n",
    "res=pred(b,w,X_test)\n",
    "#print(y_test.shape,res.shape)\n",
    "print('Final Mean Squared Error :',mean_squared_error(y_test, res))\n",
    "ridge = Ridge(alpha=200)\n",
    "ridge.fit(X_train, y_train)\n",
    "y_pred = ridge.predict(X_test)\n",
    "mse = mean_squared_error(y_test, y_pred)\n",
    "print('Error using L2 Regularization',mse)\n"
   ]
  },
  {
   "cell_type": "code",
   "execution_count": 174,
   "id": "amended-somewhere",
   "metadata": {},
   "outputs": [
    {
     "name": "stdout",
     "output_type": "stream",
     "text": [
      "(135, 1) y-shape\n",
      "(135, 1) x-shape\n",
      "<class 'pandas.core.frame.DataFrame'> x-type\n",
      "(1, 1) w\n",
      "Final Mean Squared Error : 22.07140705476974\n"
     ]
    }
   ],
   "source": [
    "X_train,X_test,y_train,y_test=train_test_split(sepal_length,petal_length,test_size=0.1)\n",
    "\n",
    "scaler = preprocessing.StandardScaler().fit(X_train.reshape(-1,1))\n",
    "X_train = scaler.transform(X_train.reshape(-1,1))\n",
    "X_test=scaler.transform(X_test.reshape(-1,1))\n",
    "y_train = scaler.transform(y_train.reshape(-1,1))\n",
    "X_train=pd.DataFrame(X_train)\n",
    "y_train=pd.DataFrame(y_train)\n",
    "#print(X_train)\n",
    "#X_train=X_train[:100]\n",
    "#print(type(X_train),type(y_train),'XXXXX')\n",
    "w,b=MyCustomSGD(X_train,learning_rate=0.001,n_iter=100,divideby=1,k=32,y=y_train)\n",
    "b=np.prod(b)\n",
    "res=pred(b,w,X_test)\n",
    "#print(y_test.shape,res.shape)\n",
    "print('Final Mean Squared Error :',mean_squared_error(y_test, res))\n"
   ]
  },
  {
   "cell_type": "code",
   "execution_count": 175,
   "id": "automotive-proposal",
   "metadata": {},
   "outputs": [
    {
     "name": "stdout",
     "output_type": "stream",
     "text": [
      "(135, 1) y-shape\n",
      "(135, 1) x-shape\n",
      "<class 'pandas.core.frame.DataFrame'> x-type\n",
      "(1, 1) w\n",
      "Final Mean Squared Error : 2.134606583399801\n"
     ]
    }
   ],
   "source": [
    "X_train,X_test,y_train,y_test=train_test_split(sepal_length,petal_width,test_size=0.1)\n",
    "\n",
    "scaler = preprocessing.StandardScaler().fit(X_train.reshape(-1,1))\n",
    "X_train = scaler.transform(X_train.reshape(-1,1))\n",
    "X_test=scaler.transform(X_test.reshape(-1,1))\n",
    "y_train = scaler.transform(y_train.reshape(-1,1))\n",
    "X_train=pd.DataFrame(X_train)\n",
    "y_train=pd.DataFrame(y_train)\n",
    "#print(X_train)\n",
    "#X_train=X_train[:100]\n",
    "#print(type(X_train),type(y_train),'XXXXX')\n",
    "w,b=MyCustomSGD(X_train,learning_rate=0.001,n_iter=100,divideby=1,k=32,y=y_train)\n",
    "b=np.prod(b)\n",
    "res=pred(b,w,X_test)\n",
    "#print(y_test.shape,res.shape)\n",
    "print('Final Mean Squared Error :',mean_squared_error(y_test, res))\n"
   ]
  },
  {
   "cell_type": "code",
   "execution_count": 176,
   "id": "fifty-credit",
   "metadata": {},
   "outputs": [
    {
     "name": "stdout",
     "output_type": "stream",
     "text": [
      "(135, 1) y-shape\n",
      "(135, 1) x-shape\n",
      "<class 'pandas.core.frame.DataFrame'> x-type\n",
      "(1, 1) w\n",
      "Final Mean Squared Error : 32.711338164540365\n"
     ]
    }
   ],
   "source": [
    "X_train,X_test,y_train,y_test=train_test_split(sepal_width,sepal_length,test_size=0.1)\n",
    "\n",
    "scaler = preprocessing.StandardScaler().fit(X_train.reshape(-1,1))\n",
    "X_train = scaler.transform(X_train.reshape(-1,1))\n",
    "X_test=scaler.transform(X_test.reshape(-1,1))\n",
    "y_train = scaler.transform(y_train.reshape(-1,1))\n",
    "X_train=pd.DataFrame(X_train)\n",
    "y_train=pd.DataFrame(y_train)\n",
    "#print(X_train)\n",
    "#X_train=X_train[:100]\n",
    "#print(type(X_train),type(y_train),'XXXXX')\n",
    "w,b=MyCustomSGD(X_train,learning_rate=0.001,n_iter=100,divideby=1,k=32,y=y_train)\n",
    "b=np.prod(b)\n",
    "res=pred(b,w,X_test)\n",
    "#print(y_test.shape,res.shape)\n",
    "print('Final Mean Squared Error :',mean_squared_error(y_test, res))\n"
   ]
  },
  {
   "cell_type": "code",
   "execution_count": 177,
   "id": "defensive-bailey",
   "metadata": {},
   "outputs": [
    {
     "name": "stdout",
     "output_type": "stream",
     "text": [
      "(135, 1) y-shape\n",
      "(135, 1) x-shape\n",
      "<class 'pandas.core.frame.DataFrame'> x-type\n",
      "(1, 1) w\n",
      "Final Mean Squared Error : 19.54469276922488\n"
     ]
    }
   ],
   "source": [
    "X_train,X_test,y_train,y_test=train_test_split(sepal_width,petal_length,test_size=0.1)\n",
    "\n",
    "scaler = preprocessing.StandardScaler().fit(X_train.reshape(-1,1))\n",
    "X_train = scaler.transform(X_train.reshape(-1,1))\n",
    "X_test=scaler.transform(X_test.reshape(-1,1))\n",
    "y_train = scaler.transform(y_train.reshape(-1,1))\n",
    "X_train=pd.DataFrame(X_train)\n",
    "y_train=pd.DataFrame(y_train)\n",
    "#print(X_train)\n",
    "#X_train=X_train[:100]\n",
    "#print(type(X_train),type(y_train),'XXXXX')\n",
    "w,b=MyCustomSGD(X_train,learning_rate=0.001,n_iter=100,divideby=1,k=32,y=y_train)\n",
    "b=np.prod(b)\n",
    "res=pred(b,w,X_test)\n",
    "#print(y_test.shape,res.shape)\n",
    "print('Final Mean Squared Error :',mean_squared_error(y_test, res))\n"
   ]
  },
  {
   "cell_type": "code",
   "execution_count": 178,
   "id": "sharp-lawsuit",
   "metadata": {},
   "outputs": [
    {
     "name": "stdout",
     "output_type": "stream",
     "text": [
      "(135, 1) y-shape\n",
      "(135, 1) x-shape\n",
      "<class 'pandas.core.frame.DataFrame'> x-type\n",
      "(1, 1) w\n",
      "Final Mean Squared Error : 2.2047364085754433\n"
     ]
    }
   ],
   "source": [
    "X_train,X_test,y_train,y_test=train_test_split(sepal_width,petal_width,test_size=0.1)\n",
    "\n",
    "scaler = preprocessing.StandardScaler().fit(X_train.reshape(-1,1))\n",
    "X_train = scaler.transform(X_train.reshape(-1,1))\n",
    "X_test=scaler.transform(X_test.reshape(-1,1))\n",
    "y_train = scaler.transform(y_train.reshape(-1,1))\n",
    "X_train=pd.DataFrame(X_train)\n",
    "y_train=pd.DataFrame(y_train)\n",
    "#print(X_train)\n",
    "#X_train=X_train[:100]\n",
    "#print(type(X_train),type(y_train),'XXXXX')\n",
    "w,b=MyCustomSGD(X_train,learning_rate=0.001,n_iter=100,divideby=1,k=32,y=y_train)\n",
    "b=np.prod(b)\n",
    "res=pred(b,w,X_test)\n",
    "#print(y_test.shape,res.shape)\n",
    "print('Final Mean Squared Error :',mean_squared_error(y_test, res))\n"
   ]
  },
  {
   "cell_type": "code",
   "execution_count": 179,
   "id": "advisory-learning",
   "metadata": {},
   "outputs": [
    {
     "name": "stdout",
     "output_type": "stream",
     "text": [
      "(135, 1) y-shape\n",
      "(135, 1) x-shape\n",
      "<class 'pandas.core.frame.DataFrame'> x-type\n",
      "(1, 1) w\n",
      "Final Mean Squared Error : 31.74116749545618\n"
     ]
    }
   ],
   "source": [
    "X_train,X_test,y_train,y_test=train_test_split(petal_length,sepal_length,test_size=0.1)\n",
    "\n",
    "scaler = preprocessing.StandardScaler().fit(X_train.reshape(-1,1))\n",
    "X_train = scaler.transform(X_train.reshape(-1,1))\n",
    "X_test=scaler.transform(X_test.reshape(-1,1))\n",
    "y_train = scaler.transform(y_train.reshape(-1,1))\n",
    "X_train=pd.DataFrame(X_train)\n",
    "y_train=pd.DataFrame(y_train)\n",
    "#print(X_train)\n",
    "#X_train=X_train[:100]\n",
    "#print(type(X_train),type(y_train),'XXXXX')\n",
    "w,b=MyCustomSGD(X_train,learning_rate=0.001,n_iter=100,divideby=1,k=32,y=y_train)\n",
    "b=np.prod(b)\n",
    "res=pred(b,w,X_test)\n",
    "#print(y_test.shape,res.shape)\n",
    "print('Final Mean Squared Error :',mean_squared_error(y_test, res))\n"
   ]
  },
  {
   "cell_type": "code",
   "execution_count": 180,
   "id": "equivalent-musical",
   "metadata": {},
   "outputs": [
    {
     "name": "stdout",
     "output_type": "stream",
     "text": [
      "(135, 1) y-shape\n",
      "(135, 1) x-shape\n",
      "<class 'pandas.core.frame.DataFrame'> x-type\n",
      "(1, 1) w\n",
      "Final Mean Squared Error : 9.919514998327577\n"
     ]
    }
   ],
   "source": [
    "X_train,X_test,y_train,y_test=train_test_split(petal_length,sepal_width,test_size=0.1)\n",
    "\n",
    "scaler = preprocessing.StandardScaler().fit(X_train.reshape(-1,1))\n",
    "X_train = scaler.transform(X_train.reshape(-1,1))\n",
    "X_test=scaler.transform(X_test.reshape(-1,1))\n",
    "y_train = scaler.transform(y_train.reshape(-1,1))\n",
    "X_train=pd.DataFrame(X_train)\n",
    "y_train=pd.DataFrame(y_train)\n",
    "#print(X_train)\n",
    "#X_train=X_train[:100]\n",
    "#print(type(X_train),type(y_train),'XXXXX')\n",
    "w,b=MyCustomSGD(X_train,learning_rate=0.001,n_iter=100,divideby=1,k=32,y=y_train)\n",
    "b=np.prod(b)\n",
    "res=pred(b,w,X_test)\n",
    "#print(y_test.shape,res.shape)\n",
    "print('Final Mean Squared Error :',mean_squared_error(y_test, res))\n"
   ]
  },
  {
   "cell_type": "code",
   "execution_count": 181,
   "id": "extraordinary-builder",
   "metadata": {},
   "outputs": [
    {
     "name": "stdout",
     "output_type": "stream",
     "text": [
      "(135, 1) y-shape\n",
      "(135, 1) x-shape\n",
      "<class 'pandas.core.frame.DataFrame'> x-type\n",
      "(1, 1) w\n",
      "Final Mean Squared Error : 2.2650580275660586\n"
     ]
    }
   ],
   "source": [
    "X_train,X_test,y_train,y_test=train_test_split(petal_length,petal_width,test_size=0.1)\n",
    "\n",
    "scaler = preprocessing.StandardScaler().fit(X_train.reshape(-1,1))\n",
    "X_train = scaler.transform(X_train.reshape(-1,1))\n",
    "X_test=scaler.transform(X_test.reshape(-1,1))\n",
    "y_train = scaler.transform(y_train.reshape(-1,1))\n",
    "X_train=pd.DataFrame(X_train)\n",
    "y_train=pd.DataFrame(y_train)\n",
    "#print(X_train)\n",
    "#X_train=X_train[:100]\n",
    "#print(type(X_train),type(y_train),'XXXXX')\n",
    "w,b=MyCustomSGD(X_train,learning_rate=0.001,n_iter=100,divideby=1,k=32,y=y_train)\n",
    "b=np.prod(b)\n",
    "res=pred(b,w,X_test)\n",
    "#print(y_test.shape,res.shape)\n",
    "print('Final Mean Squared Error :',mean_squared_error(y_test, res))\n"
   ]
  },
  {
   "cell_type": "code",
   "execution_count": 182,
   "id": "modern-mouth",
   "metadata": {},
   "outputs": [
    {
     "name": "stdout",
     "output_type": "stream",
     "text": [
      "(135, 1) y-shape\n",
      "(135, 1) x-shape\n",
      "<class 'pandas.core.frame.DataFrame'> x-type\n",
      "(1, 1) w\n",
      "Final Mean Squared Error : 36.26493011077322\n"
     ]
    }
   ],
   "source": [
    "X_train,X_test,y_train,y_test=train_test_split(petal_width,sepal_length,test_size=0.1)\n",
    "\n",
    "scaler = preprocessing.StandardScaler().fit(X_train.reshape(-1,1))\n",
    "X_train = scaler.transform(X_train.reshape(-1,1))\n",
    "X_test=scaler.transform(X_test.reshape(-1,1))\n",
    "y_train = scaler.transform(y_train.reshape(-1,1))\n",
    "X_train=pd.DataFrame(X_train)\n",
    "y_train=pd.DataFrame(y_train)\n",
    "#print(X_train)\n",
    "#X_train=X_train[:100]\n",
    "#print(type(X_train),type(y_train),'XXXXX')\n",
    "w,b=MyCustomSGD(X_train,learning_rate=0.001,n_iter=100,divideby=1,k=32,y=y_train)\n",
    "b=np.prod(b)\n",
    "res=pred(b,w,X_test)\n",
    "#print(y_test.shape,res.shape)\n",
    "print('Final Mean Squared Error :',mean_squared_error(y_test, res))\n"
   ]
  },
  {
   "cell_type": "code",
   "execution_count": 183,
   "id": "expressed-requirement",
   "metadata": {},
   "outputs": [
    {
     "name": "stdout",
     "output_type": "stream",
     "text": [
      "(135, 1) y-shape\n",
      "(135, 1) x-shape\n",
      "<class 'pandas.core.frame.DataFrame'> x-type\n",
      "(1, 1) w\n",
      "Final Mean Squared Error : 9.238399317253442\n"
     ]
    }
   ],
   "source": [
    "X_train,X_test,y_train,y_test=train_test_split(petal_width,sepal_width,test_size=0.1)\n",
    "\n",
    "scaler = preprocessing.StandardScaler().fit(X_train.reshape(-1,1))\n",
    "X_train = scaler.transform(X_train.reshape(-1,1))\n",
    "X_test=scaler.transform(X_test.reshape(-1,1))\n",
    "y_train = scaler.transform(y_train.reshape(-1,1))\n",
    "X_train=pd.DataFrame(X_train)\n",
    "y_train=pd.DataFrame(y_train)\n",
    "#print(X_train)\n",
    "#X_train=X_train[:100]\n",
    "#print(type(X_train),type(y_train),'XXXXX')\n",
    "w,b=MyCustomSGD(X_train,learning_rate=0.001,n_iter=100,divideby=1,k=32,y=y_train)\n",
    "b=np.prod(b)\n",
    "res=pred(b,w,X_test)\n",
    "#print(y_test.shape,res.shape)\n",
    "print('Final Mean Squared Error :',mean_squared_error(y_test, res))\n"
   ]
  },
  {
   "cell_type": "code",
   "execution_count": 184,
   "id": "basic-python",
   "metadata": {},
   "outputs": [
    {
     "name": "stdout",
     "output_type": "stream",
     "text": [
      "(135, 1) y-shape\n",
      "(135, 1) x-shape\n",
      "<class 'pandas.core.frame.DataFrame'> x-type\n",
      "(1, 1) w\n",
      "Final Mean Squared Error : 14.777493505545584\n"
     ]
    }
   ],
   "source": [
    "X_train,X_test,y_train,y_test=train_test_split(petal_width,petal_length,test_size=0.1)\n",
    "\n",
    "scaler = preprocessing.StandardScaler().fit(X_train.reshape(-1,1))\n",
    "X_train = scaler.transform(X_train.reshape(-1,1))\n",
    "X_test=scaler.transform(X_test.reshape(-1,1))\n",
    "y_train = scaler.transform(y_train.reshape(-1,1))\n",
    "X_train=pd.DataFrame(X_train)\n",
    "y_train=pd.DataFrame(y_train)\n",
    "#print(X_train)\n",
    "#X_train=X_train[:100]\n",
    "#print(type(X_train),type(y_train),'XXXXX')\n",
    "w,b=MyCustomSGD(X_train,learning_rate=0.001,n_iter=100,divideby=1,k=32,y=y_train)\n",
    "b=np.prod(b)\n",
    "res=pred(b,w,X_test)\n",
    "#print(y_test.shape,res.shape)\n",
    "print('Final Mean Squared Error :',mean_squared_error(y_test, res))\n"
   ]
  },
  {
   "cell_type": "code",
   "execution_count": null,
   "id": "excess-house",
   "metadata": {},
   "outputs": [],
   "source": []
  }
 ],
 "metadata": {
  "kernelspec": {
   "display_name": "Python 3 (ipykernel)",
   "language": "python",
   "name": "python3"
  },
  "language_info": {
   "codemirror_mode": {
    "name": "ipython",
    "version": 3
   },
   "file_extension": ".py",
   "mimetype": "text/x-python",
   "name": "python",
   "nbconvert_exporter": "python",
   "pygments_lexer": "ipython3",
   "version": "3.7.11"
  }
 },
 "nbformat": 4,
 "nbformat_minor": 5
}
