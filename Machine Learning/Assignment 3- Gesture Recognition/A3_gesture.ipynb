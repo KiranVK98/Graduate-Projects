{
 "cells": [
  {
   "cell_type": "code",
   "execution_count": 1,
   "id": "8658b050",
   "metadata": {},
   "outputs": [],
   "source": [
    "import pandas as pd\n",
    "import numpy as np\n",
    "from sklearn.model_selection import train_test_split\n",
    "from hmmlearn.hmm import GaussianHMM\n",
    "from hmmlearn.hmm import MultinomialHMM\n",
    "import matplotlib.pyplot as plt"
   ]
  },
  {
   "cell_type": "code",
   "execution_count": 2,
   "id": "516706b1",
   "metadata": {},
   "outputs": [],
   "source": [
    "#preparing the data"
   ]
  },
  {
   "cell_type": "code",
   "execution_count": 3,
   "id": "ad11ab10",
   "metadata": {},
   "outputs": [],
   "source": [
    "df=pd.read_csv('Original_Dataset.csv')"
   ]
  },
  {
   "cell_type": "code",
   "execution_count": 4,
   "id": "faa87ab8",
   "metadata": {},
   "outputs": [],
   "source": [
    "a1=df.loc[:,[\"LC_X\" in i for i in df.columns]]\n"
   ]
  },
  {
   "cell_type": "code",
   "execution_count": 5,
   "id": "a4bdb4a5",
   "metadata": {},
   "outputs": [],
   "source": [
    "a2=df.loc[:,[\"LC_Y\" in i for i in df.columns]]"
   ]
  },
  {
   "cell_type": "code",
   "execution_count": 6,
   "id": "9fa5a2c7",
   "metadata": {},
   "outputs": [],
   "source": [
    "a3=df.loc[:,[\"RC_X\" in i for i in df.columns]]"
   ]
  },
  {
   "cell_type": "code",
   "execution_count": 7,
   "id": "5b5f9f87",
   "metadata": {},
   "outputs": [],
   "source": [
    "a4=df.loc[:,[\"RC_Y\" in i for i in df.columns]]"
   ]
  },
  {
   "cell_type": "code",
   "execution_count": 8,
   "id": "157e8b37",
   "metadata": {},
   "outputs": [],
   "source": [
    "combined = np.dstack((a1, a2, a3, a4))"
   ]
  },
  {
   "cell_type": "code",
   "execution_count": 9,
   "id": "1778acb5",
   "metadata": {},
   "outputs": [
    {
     "data": {
      "text/plain": [
       "350"
      ]
     },
     "execution_count": 9,
     "metadata": {},
     "output_type": "execute_result"
    }
   ],
   "source": [
    "len(combined)"
   ]
  },
  {
   "cell_type": "code",
   "execution_count": 10,
   "id": "a92ebd34",
   "metadata": {},
   "outputs": [
    {
     "data": {
      "text/plain": [
       "False"
      ]
     },
     "execution_count": 10,
     "metadata": {},
     "output_type": "execute_result"
    }
   ],
   "source": [
    "np.any(np.isnan(combined))"
   ]
  },
  {
   "cell_type": "code",
   "execution_count": 11,
   "id": "076fa193",
   "metadata": {},
   "outputs": [],
   "source": [
    "#Normalizing the data"
   ]
  },
  {
   "cell_type": "code",
   "execution_count": 12,
   "id": "b9423f9d",
   "metadata": {},
   "outputs": [],
   "source": [
    "def NormalizeData(data):\n",
    "    return (data - np.min(data)) / (np.max(data) - np.min(data))"
   ]
  },
  {
   "cell_type": "code",
   "execution_count": 13,
   "id": "c21bbc24",
   "metadata": {},
   "outputs": [
    {
     "data": {
      "text/plain": [
       "array([[[0.61033797, 0.35984095, 0.        , 0.        ],\n",
       "        [0.77335984, 0.3916501 , 0.        , 0.        ],\n",
       "        [0.51491054, 0.37972167, 0.77335984, 0.3916501 ],\n",
       "        ...,\n",
       "        [0.41153082, 0.3638171 , 0.88667992, 0.38170974],\n",
       "        [0.4055666 , 0.3638171 , 0.88866799, 0.38568588],\n",
       "        [0.40159046, 0.3638171 , 0.90059642, 0.38369781]],\n",
       "\n",
       "       [[0.67594433, 0.34592445, 0.7693837 , 0.35785288],\n",
       "        [0.67594433, 0.34791252, 0.7693837 , 0.35984095],\n",
       "        [0.67594433, 0.3499006 , 0.76739563, 0.36182903],\n",
       "        ...,\n",
       "        [0.46719682, 0.35188867, 0.81908549, 0.35586481],\n",
       "        [0.46520875, 0.35188867, 0.82107356, 0.35586481],\n",
       "        [0.46322068, 0.3499006 , 0.8250497 , 0.35387674]],\n",
       "\n",
       "       [[0.51689861, 0.35387674, 0.7972167 , 0.39761431],\n",
       "        [0.52286282, 0.35586481, 0.80516899, 0.39960239],\n",
       "        [0.52882704, 0.35387674, 0.80914513, 0.39960239],\n",
       "        ...,\n",
       "        [0.47117296, 0.35984095, 0.8528827 , 0.36978131],\n",
       "        [0.46520875, 0.35984095, 0.86083499, 0.36978131],\n",
       "        [0.46520875, 0.35984095, 0.86481113, 0.36978131]],\n",
       "\n",
       "       ...,\n",
       "\n",
       "       [[0.59244533, 0.43737575, 0.        , 0.        ],\n",
       "        [0.58648111, 0.43538767, 0.        , 0.        ],\n",
       "        [0.58449304, 0.44532803, 0.        , 0.        ],\n",
       "        ...,\n",
       "        [0.57057654, 0.42147117, 0.        , 0.        ],\n",
       "        [0.57057654, 0.42147117, 0.        , 0.        ],\n",
       "        [0.56858847, 0.42147117, 0.        , 0.        ]],\n",
       "\n",
       "       [[0.5526839 , 0.42544732, 0.        , 0.        ],\n",
       "        [0.5526839 , 0.42942346, 0.        , 0.        ],\n",
       "        [0.5526839 , 0.42942346, 0.        , 0.        ],\n",
       "        ...,\n",
       "        [0.53081511, 0.40954274, 0.        , 0.        ],\n",
       "        [0.53081511, 0.40954274, 0.        , 0.        ],\n",
       "        [0.53280318, 0.40755467, 0.        , 0.        ]],\n",
       "\n",
       "       [[0.55467197, 0.43936382, 0.        , 0.        ],\n",
       "        [0.55864811, 0.43737575, 0.        , 0.        ],\n",
       "        [0.55864811, 0.43737575, 0.        , 0.        ],\n",
       "        ...,\n",
       "        [0.55666004, 0.4333996 , 0.        , 0.        ],\n",
       "        [0.55467197, 0.43538767, 0.        , 0.        ],\n",
       "        [0.55467197, 0.43538767, 0.        , 0.        ]]])"
      ]
     },
     "execution_count": 13,
     "metadata": {},
     "output_type": "execute_result"
    }
   ],
   "source": [
    "combined = NormalizeData(combined)\n",
    "\n",
    "combined"
   ]
  },
  {
   "cell_type": "code",
   "execution_count": 14,
   "id": "71ed916f",
   "metadata": {},
   "outputs": [
    {
     "data": {
      "text/plain": [
       "(350, 30, 4)"
      ]
     },
     "execution_count": 14,
     "metadata": {},
     "output_type": "execute_result"
    }
   ],
   "source": [
    "combined.shape"
   ]
  },
  {
   "cell_type": "code",
   "execution_count": 15,
   "id": "a061b64c",
   "metadata": {},
   "outputs": [],
   "source": [
    "#Building the model"
   ]
  },
  {
   "cell_type": "code",
   "execution_count": 16,
   "id": "e0c862d9",
   "metadata": {},
   "outputs": [],
   "source": [
    "model_1=combined[0:50]\n",
    "model_2=combined[50:100]\n",
    "model_3=combined[100:150]\n",
    "model_4=combined[150:200]\n",
    "model_5=combined[200:250]\n",
    "model_6=combined[250:300]\n",
    "model_7=combined[300:350]"
   ]
  },
  {
   "cell_type": "code",
   "execution_count": 17,
   "id": "b70dfbc4",
   "metadata": {},
   "outputs": [],
   "source": [
    "model1_train,model1_test=train_test_split(model_1,test_size=0.2)\n",
    "model2_train,model2_test=train_test_split(model_2,test_size=0.2)\n",
    "model3_train,model3_test=train_test_split(model_3,test_size=0.2)\n",
    "model4_train,model4_test=train_test_split(model_4,test_size=0.2)\n",
    "model5_train,model5_test=train_test_split(model_5,test_size=0.2)\n",
    "model6_train,model6_test=train_test_split(model_6,test_size=0.2)\n",
    "model7_train,model7_test=train_test_split(model_7,test_size=0.2)"
   ]
  },
  {
   "cell_type": "code",
   "execution_count": 59,
   "id": "c00124cd",
   "metadata": {},
   "outputs": [],
   "source": [
    "model1 = GaussianHMM(n_components=2)\n",
    "model2 = GaussianHMM(n_components=2)\n",
    "model3 = GaussianHMM(n_components=2)\n",
    "model4 = GaussianHMM(n_components=2)\n",
    "model5 = GaussianHMM(n_components=2)\n",
    "model6 = GaussianHMM(n_components=2)\n",
    "model7 = GaussianHMM(n_components=2)"
   ]
  },
  {
   "cell_type": "code",
   "execution_count": 60,
   "id": "73db10dc",
   "metadata": {},
   "outputs": [],
   "source": [
    "concat_test=np.concatenate((model1_test,model2_test,model3_test,model4_test,model5_test,model6_test,model7_test))"
   ]
  },
  {
   "cell_type": "code",
   "execution_count": 61,
   "id": "eeb97383",
   "metadata": {},
   "outputs": [
    {
     "data": {
      "text/plain": [
       "(70, 30, 4)"
      ]
     },
     "execution_count": 61,
     "metadata": {},
     "output_type": "execute_result"
    }
   ],
   "source": [
    "concat_test.shape"
   ]
  },
  {
   "cell_type": "code",
   "execution_count": 62,
   "id": "da3c538e",
   "metadata": {},
   "outputs": [
    {
     "name": "stderr",
     "output_type": "stream",
     "text": [
      "C:\\Users\\Kiran\\anaconda3\\envs\\cse6363\\lib\\site-packages\\ipykernel_launcher.py:1: DeprecationWarning: less that 1200 samples in lengths array 30; support for silently dropping samples is deprecated and will be removed\n",
      "  \"\"\"Entry point for launching an IPython kernel.\n",
      "C:\\Users\\Kiran\\anaconda3\\envs\\cse6363\\lib\\site-packages\\ipykernel_launcher.py:2: DeprecationWarning: less that 1200 samples in lengths array 30; support for silently dropping samples is deprecated and will be removed\n",
      "  \n",
      "C:\\Users\\Kiran\\anaconda3\\envs\\cse6363\\lib\\site-packages\\ipykernel_launcher.py:3: DeprecationWarning: less that 1200 samples in lengths array 30; support for silently dropping samples is deprecated and will be removed\n",
      "  This is separate from the ipykernel package so we can avoid doing imports until\n",
      "C:\\Users\\Kiran\\anaconda3\\envs\\cse6363\\lib\\site-packages\\ipykernel_launcher.py:4: DeprecationWarning: less that 1200 samples in lengths array 30; support for silently dropping samples is deprecated and will be removed\n",
      "  after removing the cwd from sys.path.\n",
      "C:\\Users\\Kiran\\anaconda3\\envs\\cse6363\\lib\\site-packages\\ipykernel_launcher.py:5: DeprecationWarning: less that 1200 samples in lengths array 30; support for silently dropping samples is deprecated and will be removed\n",
      "  \"\"\"\n",
      "C:\\Users\\Kiran\\anaconda3\\envs\\cse6363\\lib\\site-packages\\ipykernel_launcher.py:6: DeprecationWarning: less that 1200 samples in lengths array 30; support for silently dropping samples is deprecated and will be removed\n",
      "  \n",
      "C:\\Users\\Kiran\\anaconda3\\envs\\cse6363\\lib\\site-packages\\ipykernel_launcher.py:7: DeprecationWarning: less that 1200 samples in lengths array 30; support for silently dropping samples is deprecated and will be removed\n",
      "  import sys\n"
     ]
    },
    {
     "data": {
      "text/plain": [
       "GaussianHMM(n_components=2)"
      ]
     },
     "execution_count": 62,
     "metadata": {},
     "output_type": "execute_result"
    }
   ],
   "source": [
    "model1.fit(model1_train.reshape(-1,4),lengths=30)\n",
    "model2.fit(model2_train.reshape(-1,4),lengths=30)\n",
    "model3.fit(model3_train.reshape(-1,4),lengths=30)\n",
    "model4.fit(model4_train.reshape(-1,4),lengths=30)\n",
    "model5.fit(model5_train.reshape(-1,4),lengths=30)\n",
    "model6.fit(model6_train.reshape(-1,4),lengths=30)\n",
    "model7.fit(model7_train.reshape(-1,4),lengths=30)"
   ]
  },
  {
   "cell_type": "code",
   "execution_count": 63,
   "id": "8e30b62d",
   "metadata": {},
   "outputs": [],
   "source": [
    "models=[model1,model2,model3,model4,model5,model6,model7]\n"
   ]
  },
  {
   "cell_type": "code",
   "execution_count": 64,
   "id": "eb5b0ba0",
   "metadata": {},
   "outputs": [
    {
     "name": "stdout",
     "output_type": "stream",
     "text": [
      "test sample 1  belongs to gesture: ZoomIn\n",
      "test sample 2  belongs to gesture: ZoomIn\n",
      "test sample 3  belongs to gesture: ZoomIn\n",
      "test sample 4  belongs to gesture: ZoomIn\n",
      "test sample 5  belongs to gesture: ZoomIn\n",
      "test sample 6  belongs to gesture: ZoomIn\n",
      "test sample 7  belongs to gesture: ZoomIn\n",
      "test sample 8  belongs to gesture: ZoomIn\n",
      "test sample 9  belongs to gesture: ZoomIn\n",
      "test sample 10  belongs to gesture: ZoomIn\n",
      "test sample 11  belongs to gesture: ZoomOut\n",
      "test sample 12  belongs to gesture: ZoomIn\n",
      "test sample 13  belongs to gesture: ZoomOut\n",
      "test sample 14  belongs to gesture: ZoomIn\n",
      "test sample 15  belongs to gesture: ZoomOut\n",
      "test sample 16  belongs to gesture: ZoomOut\n",
      "test sample 17  belongs to gesture: ZoomOut\n",
      "test sample 18  belongs to gesture: ZoomOut\n",
      "test sample 19  belongs to gesture: ZoomOut\n",
      "test sample 20  belongs to gesture: ZoomOut\n",
      "test sample 21  belongs to gesture: MoveLeft\n",
      "test sample 22  belongs to gesture: MoveRight\n",
      "test sample 23  belongs to gesture: MoveRight\n",
      "test sample 24  belongs to gesture: MoveRight\n",
      "test sample 25  belongs to gesture: MoveRight\n",
      "test sample 26  belongs to gesture: MoveRight\n",
      "test sample 27  belongs to gesture: MoveRight\n",
      "test sample 28  belongs to gesture: MoveRight\n",
      "test sample 29  belongs to gesture: MoveRight\n",
      "test sample 30  belongs to gesture: MoveLeft\n",
      "test sample 31  belongs to gesture: MoveRight\n",
      "test sample 32  belongs to gesture: MoveRight\n",
      "test sample 33  belongs to gesture: MoveRight\n",
      "test sample 34  belongs to gesture: MoveRight\n",
      "test sample 35  belongs to gesture: MoveRight\n",
      "test sample 36  belongs to gesture: MoveRight\n",
      "test sample 37  belongs to gesture: MoveRight\n",
      "test sample 38  belongs to gesture: MoveRight\n",
      "test sample 39  belongs to gesture: MoveRight\n",
      "test sample 40  belongs to gesture: MoveRight\n",
      "test sample 41  belongs to gesture: MoveRight\n",
      "test sample 42  belongs to gesture: MoveDown\n",
      "test sample 43  belongs to gesture: MoveUp\n",
      "test sample 44  belongs to gesture: MoveRight\n",
      "test sample 45  belongs to gesture: MoveRight\n",
      "test sample 46  belongs to gesture: MoveRight\n",
      "test sample 47  belongs to gesture: MoveDown\n",
      "test sample 48  belongs to gesture: MoveDown\n",
      "test sample 49  belongs to gesture: MoveDown\n",
      "test sample 50  belongs to gesture: MoveRight\n",
      "test sample 51  belongs to gesture: MoveRight\n",
      "test sample 52  belongs to gesture: MoveUp\n",
      "test sample 53  belongs to gesture: MoveUp\n",
      "test sample 54  belongs to gesture: MoveRight\n",
      "test sample 55  belongs to gesture: MoveRight\n",
      "test sample 56  belongs to gesture: MoveUp\n",
      "test sample 57  belongs to gesture: MoveUp\n",
      "test sample 58  belongs to gesture: MoveUp\n",
      "test sample 59  belongs to gesture: MoveRight\n",
      "test sample 60  belongs to gesture: MoveUp\n",
      "test sample 61  belongs to gesture: MoveUp\n",
      "test sample 62  belongs to gesture: MoveUp\n",
      "test sample 63  belongs to gesture: Press\n",
      "test sample 64  belongs to gesture: MoveRight\n",
      "test sample 65  belongs to gesture: MoveRight\n",
      "test sample 66  belongs to gesture: Press\n",
      "test sample 67  belongs to gesture: MoveUp\n",
      "test sample 68  belongs to gesture: MoveRight\n",
      "test sample 69  belongs to gesture: MoveUp\n",
      "test sample 70  belongs to gesture: Press\n"
     ]
    }
   ],
   "source": [
    "dc={0:'ZoomIn',1:'ZoomOut',2:'MoveLeft',3:'MoveRight',4:'MoveDown',5:'MoveUp',6:'Press'}\n",
    "succ=0\n",
    "for ind,i in enumerate(concat_test):\n",
    "    max_model=float('-inf')\n",
    "    max_score=float('-inf')\n",
    "    for index,j in enumerate(models):\n",
    "        if j.score(i) > max_score:\n",
    "            max_score=j.score(i)\n",
    "            max_model=index\n",
    "            \n",
    "            \n",
    "    if(ind<10):\n",
    "        if(max_model==0):\n",
    "            succ+=1\n",
    "            \n",
    "    elif(ind>=10 and ind<20):\n",
    "        if(max_model==1):\n",
    "            succ+=1\n",
    "            \n",
    "    elif(ind>=20 and ind<30):\n",
    "        if(max_model==2):\n",
    "            succ+=1\n",
    "            \n",
    "    elif(ind>=30 and ind<40):\n",
    "        if(max_model==3):\n",
    "            succ+=1\n",
    "            \n",
    "    elif(ind>=40 and ind<50):\n",
    "        if(max_model==4):\n",
    "            succ+=1\n",
    "            \n",
    "    elif(ind>=50 and ind<60):\n",
    "        if(max_model==5):\n",
    "            succ+=1\n",
    "            \n",
    "    elif(ind>=60 and ind<70):\n",
    "        if(max_model==6):\n",
    "            succ+=1\n",
    "        \n",
    "    print('test sample',ind+1,' belongs to gesture:',dc[max_model])\n",
    "    \n",
    "    \n",
    "    \n",
    "    \n"
   ]
  },
  {
   "cell_type": "code",
   "execution_count": 65,
   "id": "4d2ec4ef",
   "metadata": {},
   "outputs": [
    {
     "name": "stdout",
     "output_type": "stream",
     "text": [
      "The number of successes: 43\n",
      "The accuracy of prediction when number of components=2 is 61.42857142857143\n"
     ]
    }
   ],
   "source": [
    "print('The number of successes:',succ)\n",
    "print('The accuracy of prediction when number of components=2 is',succ/70*100)"
   ]
  },
  {
   "cell_type": "code",
   "execution_count": 66,
   "id": "b14b990a",
   "metadata": {},
   "outputs": [],
   "source": [
    "#finding the best configuration\n",
    "#with number of components=3"
   ]
  },
  {
   "cell_type": "code",
   "execution_count": 67,
   "id": "7d7d138f",
   "metadata": {},
   "outputs": [],
   "source": [
    "model1 = GaussianHMM(n_components=3)\n",
    "model2 = GaussianHMM(n_components=3)\n",
    "model3 = GaussianHMM(n_components=3)\n",
    "model4 = GaussianHMM(n_components=3)\n",
    "model5 = GaussianHMM(n_components=3)\n",
    "model6 = GaussianHMM(n_components=3)\n",
    "model7 = GaussianHMM(n_components=3)"
   ]
  },
  {
   "cell_type": "code",
   "execution_count": 68,
   "id": "94aa1455",
   "metadata": {},
   "outputs": [
    {
     "name": "stderr",
     "output_type": "stream",
     "text": [
      "C:\\Users\\Kiran\\anaconda3\\envs\\cse6363\\lib\\site-packages\\ipykernel_launcher.py:1: DeprecationWarning: less that 1200 samples in lengths array 30; support for silently dropping samples is deprecated and will be removed\n",
      "  \"\"\"Entry point for launching an IPython kernel.\n",
      "C:\\Users\\Kiran\\anaconda3\\envs\\cse6363\\lib\\site-packages\\ipykernel_launcher.py:2: DeprecationWarning: less that 1200 samples in lengths array 30; support for silently dropping samples is deprecated and will be removed\n",
      "  \n",
      "C:\\Users\\Kiran\\anaconda3\\envs\\cse6363\\lib\\site-packages\\ipykernel_launcher.py:3: DeprecationWarning: less that 1200 samples in lengths array 30; support for silently dropping samples is deprecated and will be removed\n",
      "  This is separate from the ipykernel package so we can avoid doing imports until\n",
      "C:\\Users\\Kiran\\anaconda3\\envs\\cse6363\\lib\\site-packages\\ipykernel_launcher.py:4: DeprecationWarning: less that 1200 samples in lengths array 30; support for silently dropping samples is deprecated and will be removed\n",
      "  after removing the cwd from sys.path.\n",
      "C:\\Users\\Kiran\\anaconda3\\envs\\cse6363\\lib\\site-packages\\ipykernel_launcher.py:5: DeprecationWarning: less that 1200 samples in lengths array 30; support for silently dropping samples is deprecated and will be removed\n",
      "  \"\"\"\n",
      "C:\\Users\\Kiran\\anaconda3\\envs\\cse6363\\lib\\site-packages\\ipykernel_launcher.py:6: DeprecationWarning: less that 1200 samples in lengths array 30; support for silently dropping samples is deprecated and will be removed\n",
      "  \n",
      "C:\\Users\\Kiran\\anaconda3\\envs\\cse6363\\lib\\site-packages\\ipykernel_launcher.py:7: DeprecationWarning: less that 1200 samples in lengths array 30; support for silently dropping samples is deprecated and will be removed\n",
      "  import sys\n"
     ]
    },
    {
     "data": {
      "text/plain": [
       "GaussianHMM(n_components=3)"
      ]
     },
     "execution_count": 68,
     "metadata": {},
     "output_type": "execute_result"
    }
   ],
   "source": [
    "model1.fit(model1_train.reshape(-1,4),lengths=30)\n",
    "model2.fit(model2_train.reshape(-1,4),lengths=30)\n",
    "model3.fit(model3_train.reshape(-1,4),lengths=30)\n",
    "model4.fit(model4_train.reshape(-1,4),lengths=30)\n",
    "model5.fit(model5_train.reshape(-1,4),lengths=30)\n",
    "model6.fit(model6_train.reshape(-1,4),lengths=30)\n",
    "model7.fit(model7_train.reshape(-1,4),lengths=30)"
   ]
  },
  {
   "cell_type": "code",
   "execution_count": 69,
   "id": "1b6d7dbe",
   "metadata": {},
   "outputs": [],
   "source": [
    "models=[model1,model2,model3,model4,model5,model6,model7]"
   ]
  },
  {
   "cell_type": "code",
   "execution_count": 70,
   "id": "e4cee7b1",
   "metadata": {},
   "outputs": [
    {
     "name": "stdout",
     "output_type": "stream",
     "text": [
      "test sample 1  belongs to gesture: ZoomIn\n",
      "test sample 2  belongs to gesture: ZoomIn\n",
      "test sample 3  belongs to gesture: ZoomIn\n",
      "test sample 4  belongs to gesture: ZoomIn\n",
      "test sample 5  belongs to gesture: ZoomIn\n",
      "test sample 6  belongs to gesture: ZoomIn\n",
      "test sample 7  belongs to gesture: ZoomIn\n",
      "test sample 8  belongs to gesture: ZoomIn\n",
      "test sample 9  belongs to gesture: ZoomIn\n",
      "test sample 10  belongs to gesture: ZoomIn\n",
      "test sample 11  belongs to gesture: ZoomOut\n",
      "test sample 12  belongs to gesture: ZoomIn\n",
      "test sample 13  belongs to gesture: ZoomOut\n",
      "test sample 14  belongs to gesture: ZoomIn\n",
      "test sample 15  belongs to gesture: ZoomOut\n",
      "test sample 16  belongs to gesture: ZoomOut\n",
      "test sample 17  belongs to gesture: ZoomOut\n",
      "test sample 18  belongs to gesture: ZoomOut\n",
      "test sample 19  belongs to gesture: ZoomOut\n",
      "test sample 20  belongs to gesture: ZoomOut\n",
      "test sample 21  belongs to gesture: MoveLeft\n",
      "test sample 22  belongs to gesture: MoveLeft\n",
      "test sample 23  belongs to gesture: MoveRight\n",
      "test sample 24  belongs to gesture: MoveRight\n",
      "test sample 25  belongs to gesture: MoveLeft\n",
      "test sample 26  belongs to gesture: MoveLeft\n",
      "test sample 27  belongs to gesture: MoveLeft\n",
      "test sample 28  belongs to gesture: MoveLeft\n",
      "test sample 29  belongs to gesture: MoveLeft\n",
      "test sample 30  belongs to gesture: MoveLeft\n",
      "test sample 31  belongs to gesture: MoveRight\n",
      "test sample 32  belongs to gesture: MoveRight\n",
      "test sample 33  belongs to gesture: MoveRight\n",
      "test sample 34  belongs to gesture: MoveRight\n",
      "test sample 35  belongs to gesture: MoveRight\n",
      "test sample 36  belongs to gesture: MoveRight\n",
      "test sample 37  belongs to gesture: MoveRight\n",
      "test sample 38  belongs to gesture: MoveRight\n",
      "test sample 39  belongs to gesture: MoveRight\n",
      "test sample 40  belongs to gesture: MoveRight\n",
      "test sample 41  belongs to gesture: MoveRight\n",
      "test sample 42  belongs to gesture: MoveDown\n",
      "test sample 43  belongs to gesture: MoveUp\n",
      "test sample 44  belongs to gesture: MoveRight\n",
      "test sample 45  belongs to gesture: MoveRight\n",
      "test sample 46  belongs to gesture: MoveRight\n",
      "test sample 47  belongs to gesture: MoveDown\n",
      "test sample 48  belongs to gesture: MoveDown\n",
      "test sample 49  belongs to gesture: MoveDown\n",
      "test sample 50  belongs to gesture: MoveRight\n",
      "test sample 51  belongs to gesture: MoveRight\n",
      "test sample 52  belongs to gesture: MoveUp\n",
      "test sample 53  belongs to gesture: MoveUp\n",
      "test sample 54  belongs to gesture: MoveRight\n",
      "test sample 55  belongs to gesture: MoveRight\n",
      "test sample 56  belongs to gesture: MoveUp\n",
      "test sample 57  belongs to gesture: MoveUp\n",
      "test sample 58  belongs to gesture: MoveUp\n",
      "test sample 59  belongs to gesture: MoveRight\n",
      "test sample 60  belongs to gesture: MoveUp\n",
      "test sample 61  belongs to gesture: MoveUp\n",
      "test sample 62  belongs to gesture: MoveUp\n",
      "test sample 63  belongs to gesture: Press\n",
      "test sample 64  belongs to gesture: MoveDown\n",
      "test sample 65  belongs to gesture: MoveRight\n",
      "test sample 66  belongs to gesture: Press\n",
      "test sample 67  belongs to gesture: MoveUp\n",
      "test sample 68  belongs to gesture: MoveUp\n",
      "test sample 69  belongs to gesture: MoveUp\n",
      "test sample 70  belongs to gesture: Press\n"
     ]
    }
   ],
   "source": [
    "dc={0:'ZoomIn',1:'ZoomOut',2:'MoveLeft',3:'MoveRight',4:'MoveDown',5:'MoveUp',6:'Press'}\n",
    "succ=0\n",
    "for ind,i in enumerate(concat_test):\n",
    "    max_model=float('-inf')\n",
    "    max_score=float('-inf')\n",
    "    for index,j in enumerate(models):\n",
    "        if j.score(i) > max_score:\n",
    "            max_score=j.score(i)\n",
    "            max_model=index\n",
    "            \n",
    "            \n",
    "    if(ind<10):\n",
    "        if(max_model==0):\n",
    "            succ+=1\n",
    "            \n",
    "    elif(ind>=10 and ind<20):\n",
    "        if(max_model==1):\n",
    "            succ+=1\n",
    "            \n",
    "    elif(ind>=20 and ind<30):\n",
    "        if(max_model==2):\n",
    "            succ+=1\n",
    "            \n",
    "    elif(ind>=30 and ind<40):\n",
    "        if(max_model==3):\n",
    "            succ+=1\n",
    "            \n",
    "    elif(ind>=40 and ind<50):\n",
    "        if(max_model==4):\n",
    "            succ+=1\n",
    "            \n",
    "    elif(ind>=50 and ind<60):\n",
    "        if(max_model==5):\n",
    "            succ+=1\n",
    "            \n",
    "    elif(ind>=60 and ind<70):\n",
    "        if(max_model==6):\n",
    "            succ+=1\n",
    "        \n",
    "    print('test sample',ind+1,' belongs to gesture:',dc[max_model])"
   ]
  },
  {
   "cell_type": "code",
   "execution_count": 71,
   "id": "41bd5b4b",
   "metadata": {},
   "outputs": [
    {
     "name": "stdout",
     "output_type": "stream",
     "text": [
      "The number of successes: 49\n",
      "The accuracy of prediction with number of components=3 is 70.0\n"
     ]
    }
   ],
   "source": [
    "print('The number of successes:',succ)\n",
    "print('The accuracy of prediction with number of components=3 is',succ/70*100)"
   ]
  },
  {
   "cell_type": "code",
   "execution_count": 72,
   "id": "5549ec34",
   "metadata": {},
   "outputs": [
    {
     "name": "stderr",
     "output_type": "stream",
     "text": [
      "C:\\Users\\Kiran\\anaconda3\\envs\\cse6363\\lib\\site-packages\\ipykernel_launcher.py:11: DeprecationWarning: less that 1200 samples in lengths array 30; support for silently dropping samples is deprecated and will be removed\n",
      "  # This is added back by InteractiveShellApp.init_path()\n",
      "C:\\Users\\Kiran\\anaconda3\\envs\\cse6363\\lib\\site-packages\\ipykernel_launcher.py:12: DeprecationWarning: less that 1200 samples in lengths array 30; support for silently dropping samples is deprecated and will be removed\n",
      "  if sys.path[0] == '':\n",
      "C:\\Users\\Kiran\\anaconda3\\envs\\cse6363\\lib\\site-packages\\ipykernel_launcher.py:13: DeprecationWarning: less that 1200 samples in lengths array 30; support for silently dropping samples is deprecated and will be removed\n",
      "  del sys.path[0]\n",
      "C:\\Users\\Kiran\\anaconda3\\envs\\cse6363\\lib\\site-packages\\ipykernel_launcher.py:14: DeprecationWarning: less that 1200 samples in lengths array 30; support for silently dropping samples is deprecated and will be removed\n",
      "  \n",
      "C:\\Users\\Kiran\\anaconda3\\envs\\cse6363\\lib\\site-packages\\ipykernel_launcher.py:15: DeprecationWarning: less that 1200 samples in lengths array 30; support for silently dropping samples is deprecated and will be removed\n",
      "  from ipykernel import kernelapp as app\n",
      "C:\\Users\\Kiran\\anaconda3\\envs\\cse6363\\lib\\site-packages\\ipykernel_launcher.py:16: DeprecationWarning: less that 1200 samples in lengths array 30; support for silently dropping samples is deprecated and will be removed\n",
      "  app.launch_new_instance()\n",
      "C:\\Users\\Kiran\\anaconda3\\envs\\cse6363\\lib\\site-packages\\ipykernel_launcher.py:17: DeprecationWarning: less that 1200 samples in lengths array 30; support for silently dropping samples is deprecated and will be removed\n"
     ]
    },
    {
     "name": "stdout",
     "output_type": "stream",
     "text": [
      "test sample 1  belongs to gesture: ZoomIn\n",
      "test sample 2  belongs to gesture: ZoomIn\n",
      "test sample 3  belongs to gesture: ZoomIn\n",
      "test sample 4  belongs to gesture: ZoomIn\n",
      "test sample 5  belongs to gesture: ZoomIn\n",
      "test sample 6  belongs to gesture: ZoomIn\n",
      "test sample 7  belongs to gesture: ZoomIn\n",
      "test sample 8  belongs to gesture: ZoomIn\n",
      "test sample 9  belongs to gesture: ZoomIn\n",
      "test sample 10  belongs to gesture: ZoomIn\n",
      "test sample 11  belongs to gesture: ZoomOut\n",
      "test sample 12  belongs to gesture: ZoomIn\n",
      "test sample 13  belongs to gesture: ZoomOut\n",
      "test sample 14  belongs to gesture: ZoomIn\n",
      "test sample 15  belongs to gesture: ZoomOut\n",
      "test sample 16  belongs to gesture: ZoomOut\n",
      "test sample 17  belongs to gesture: ZoomOut\n",
      "test sample 18  belongs to gesture: ZoomOut\n",
      "test sample 19  belongs to gesture: ZoomOut\n",
      "test sample 20  belongs to gesture: ZoomOut\n",
      "test sample 21  belongs to gesture: MoveLeft\n",
      "test sample 22  belongs to gesture: MoveLeft\n",
      "test sample 23  belongs to gesture: MoveRight\n",
      "test sample 24  belongs to gesture: MoveRight\n",
      "test sample 25  belongs to gesture: MoveLeft\n",
      "test sample 26  belongs to gesture: MoveLeft\n",
      "test sample 27  belongs to gesture: MoveLeft\n",
      "test sample 28  belongs to gesture: MoveLeft\n",
      "test sample 29  belongs to gesture: MoveLeft\n",
      "test sample 30  belongs to gesture: MoveLeft\n",
      "test sample 31  belongs to gesture: MoveRight\n",
      "test sample 32  belongs to gesture: MoveRight\n",
      "test sample 33  belongs to gesture: MoveRight\n",
      "test sample 34  belongs to gesture: MoveRight\n",
      "test sample 35  belongs to gesture: MoveRight\n",
      "test sample 36  belongs to gesture: MoveRight\n",
      "test sample 37  belongs to gesture: MoveRight\n",
      "test sample 38  belongs to gesture: MoveRight\n",
      "test sample 39  belongs to gesture: MoveRight\n",
      "test sample 40  belongs to gesture: MoveRight\n",
      "test sample 41  belongs to gesture: MoveRight\n",
      "test sample 42  belongs to gesture: MoveDown\n",
      "test sample 43  belongs to gesture: MoveUp\n",
      "test sample 44  belongs to gesture: MoveRight\n",
      "test sample 45  belongs to gesture: MoveRight\n",
      "test sample 46  belongs to gesture: MoveRight\n",
      "test sample 47  belongs to gesture: MoveDown\n",
      "test sample 48  belongs to gesture: MoveDown\n",
      "test sample 49  belongs to gesture: MoveDown\n",
      "test sample 50  belongs to gesture: MoveRight\n",
      "test sample 51  belongs to gesture: MoveRight\n",
      "test sample 52  belongs to gesture: MoveUp\n",
      "test sample 53  belongs to gesture: MoveUp\n",
      "test sample 54  belongs to gesture: MoveRight\n",
      "test sample 55  belongs to gesture: MoveRight\n",
      "test sample 56  belongs to gesture: MoveUp\n",
      "test sample 57  belongs to gesture: MoveUp\n",
      "test sample 58  belongs to gesture: MoveUp\n",
      "test sample 59  belongs to gesture: MoveRight\n",
      "test sample 60  belongs to gesture: MoveUp\n",
      "test sample 61  belongs to gesture: MoveUp\n",
      "test sample 62  belongs to gesture: MoveUp\n",
      "test sample 63  belongs to gesture: Press\n",
      "test sample 64  belongs to gesture: MoveDown\n",
      "test sample 65  belongs to gesture: MoveRight\n",
      "test sample 66  belongs to gesture: Press\n",
      "test sample 67  belongs to gesture: MoveUp\n",
      "test sample 68  belongs to gesture: MoveUp\n",
      "test sample 69  belongs to gesture: MoveUp\n",
      "test sample 70  belongs to gesture: Press\n"
     ]
    }
   ],
   "source": [
    "#finding the best configuration\n",
    "#with number of components=4\n",
    "model1 = GaussianHMM(n_components=4)\n",
    "model2 = GaussianHMM(n_components=4)\n",
    "model3 = GaussianHMM(n_components=4)\n",
    "model4 = GaussianHMM(n_components=4)\n",
    "model5 = GaussianHMM(n_components=4)\n",
    "model6 = GaussianHMM(n_components=4)\n",
    "model7 = GaussianHMM(n_components=4)\n",
    "models=[model1,model2,model3,model4,model5,model6,model7]\n",
    "model1.fit(model1_train.reshape(-1,4),lengths=30)\n",
    "model2.fit(model2_train.reshape(-1,4),lengths=30)\n",
    "model3.fit(model3_train.reshape(-1,4),lengths=30)\n",
    "model4.fit(model4_train.reshape(-1,4),lengths=30)\n",
    "model5.fit(model5_train.reshape(-1,4),lengths=30)\n",
    "model6.fit(model6_train.reshape(-1,4),lengths=30)\n",
    "model7.fit(model7_train.reshape(-1,4),lengths=30)\n",
    "c={0:'ZoomIn',1:'ZoomOut',2:'MoveLeft',3:'MoveRight',4:'MoveDown',5:'MoveUp',6:'Press'}\n",
    "succ=0\n",
    "for ind,i in enumerate(concat_test):\n",
    "    max_model=float('-inf')\n",
    "    max_score=float('-inf')\n",
    "    for index,j in enumerate(models):\n",
    "        if j.score(i) > max_score:\n",
    "            max_score=j.score(i)\n",
    "            max_model=index\n",
    "            \n",
    "            \n",
    "    if(ind<10):\n",
    "        if(max_model==0):\n",
    "            succ+=1\n",
    "            \n",
    "    elif(ind>=10 and ind<20):\n",
    "        if(max_model==1):\n",
    "            succ+=1\n",
    "            \n",
    "    elif(ind>=20 and ind<30):\n",
    "        if(max_model==2):\n",
    "            succ+=1\n",
    "            \n",
    "    elif(ind>=30 and ind<40):\n",
    "        if(max_model==3):\n",
    "            succ+=1\n",
    "            \n",
    "    elif(ind>=40 and ind<50):\n",
    "        if(max_model==4):\n",
    "            succ+=1\n",
    "            \n",
    "    elif(ind>=50 and ind<60):\n",
    "        if(max_model==5):\n",
    "            succ+=1\n",
    "            \n",
    "    elif(ind>=60 and ind<70):\n",
    "        if(max_model==6):\n",
    "            succ+=1\n",
    "        \n",
    "    print('test sample',ind+1,' belongs to gesture:',dc[max_model])"
   ]
  },
  {
   "cell_type": "code",
   "execution_count": 73,
   "id": "8b8f2c64",
   "metadata": {},
   "outputs": [
    {
     "name": "stdout",
     "output_type": "stream",
     "text": [
      "The number of successes: 49\n",
      "The accuracy of prediction with number of components=4 70.0\n"
     ]
    }
   ],
   "source": [
    "print('The number of successes:',succ)\n",
    "print('The accuracy of prediction with number of components=4',succ/70*100)"
   ]
  },
  {
   "cell_type": "code",
   "execution_count": 74,
   "id": "66ac28fe",
   "metadata": {},
   "outputs": [
    {
     "name": "stderr",
     "output_type": "stream",
     "text": [
      "C:\\Users\\Kiran\\anaconda3\\envs\\cse6363\\lib\\site-packages\\ipykernel_launcher.py:11: DeprecationWarning: less that 1200 samples in lengths array 30; support for silently dropping samples is deprecated and will be removed\n",
      "  # This is added back by InteractiveShellApp.init_path()\n",
      "C:\\Users\\Kiran\\anaconda3\\envs\\cse6363\\lib\\site-packages\\ipykernel_launcher.py:12: DeprecationWarning: less that 1200 samples in lengths array 30; support for silently dropping samples is deprecated and will be removed\n",
      "  if sys.path[0] == '':\n",
      "C:\\Users\\Kiran\\anaconda3\\envs\\cse6363\\lib\\site-packages\\ipykernel_launcher.py:13: DeprecationWarning: less that 1200 samples in lengths array 30; support for silently dropping samples is deprecated and will be removed\n",
      "  del sys.path[0]\n",
      "C:\\Users\\Kiran\\anaconda3\\envs\\cse6363\\lib\\site-packages\\ipykernel_launcher.py:14: DeprecationWarning: less that 1200 samples in lengths array 30; support for silently dropping samples is deprecated and will be removed\n",
      "  \n",
      "C:\\Users\\Kiran\\anaconda3\\envs\\cse6363\\lib\\site-packages\\ipykernel_launcher.py:15: DeprecationWarning: less that 1200 samples in lengths array 30; support for silently dropping samples is deprecated and will be removed\n",
      "  from ipykernel import kernelapp as app\n",
      "C:\\Users\\Kiran\\anaconda3\\envs\\cse6363\\lib\\site-packages\\ipykernel_launcher.py:16: DeprecationWarning: less that 1200 samples in lengths array 30; support for silently dropping samples is deprecated and will be removed\n",
      "  app.launch_new_instance()\n",
      "C:\\Users\\Kiran\\anaconda3\\envs\\cse6363\\lib\\site-packages\\ipykernel_launcher.py:17: DeprecationWarning: less that 1200 samples in lengths array 30; support for silently dropping samples is deprecated and will be removed\n"
     ]
    },
    {
     "name": "stdout",
     "output_type": "stream",
     "text": [
      "test sample 1  belongs to gesture: ZoomIn\n",
      "test sample 2  belongs to gesture: ZoomIn\n",
      "test sample 3  belongs to gesture: ZoomIn\n",
      "test sample 4  belongs to gesture: ZoomIn\n",
      "test sample 5  belongs to gesture: ZoomIn\n",
      "test sample 6  belongs to gesture: ZoomIn\n",
      "test sample 7  belongs to gesture: ZoomIn\n",
      "test sample 8  belongs to gesture: ZoomIn\n",
      "test sample 9  belongs to gesture: ZoomIn\n",
      "test sample 10  belongs to gesture: ZoomIn\n",
      "test sample 11  belongs to gesture: ZoomOut\n",
      "test sample 12  belongs to gesture: ZoomIn\n",
      "test sample 13  belongs to gesture: ZoomOut\n",
      "test sample 14  belongs to gesture: ZoomIn\n",
      "test sample 15  belongs to gesture: ZoomOut\n",
      "test sample 16  belongs to gesture: ZoomOut\n",
      "test sample 17  belongs to gesture: ZoomOut\n",
      "test sample 18  belongs to gesture: ZoomOut\n",
      "test sample 19  belongs to gesture: ZoomOut\n",
      "test sample 20  belongs to gesture: ZoomOut\n",
      "test sample 21  belongs to gesture: MoveLeft\n",
      "test sample 22  belongs to gesture: MoveLeft\n",
      "test sample 23  belongs to gesture: MoveRight\n",
      "test sample 24  belongs to gesture: MoveRight\n",
      "test sample 25  belongs to gesture: MoveLeft\n",
      "test sample 26  belongs to gesture: MoveLeft\n",
      "test sample 27  belongs to gesture: MoveLeft\n",
      "test sample 28  belongs to gesture: MoveLeft\n",
      "test sample 29  belongs to gesture: MoveLeft\n",
      "test sample 30  belongs to gesture: MoveLeft\n",
      "test sample 31  belongs to gesture: MoveRight\n",
      "test sample 32  belongs to gesture: MoveRight\n",
      "test sample 33  belongs to gesture: MoveRight\n",
      "test sample 34  belongs to gesture: MoveRight\n",
      "test sample 35  belongs to gesture: MoveRight\n",
      "test sample 36  belongs to gesture: MoveRight\n",
      "test sample 37  belongs to gesture: MoveRight\n",
      "test sample 38  belongs to gesture: MoveRight\n",
      "test sample 39  belongs to gesture: MoveRight\n",
      "test sample 40  belongs to gesture: MoveRight\n",
      "test sample 41  belongs to gesture: MoveRight\n",
      "test sample 42  belongs to gesture: MoveDown\n",
      "test sample 43  belongs to gesture: MoveUp\n",
      "test sample 44  belongs to gesture: MoveRight\n",
      "test sample 45  belongs to gesture: MoveRight\n",
      "test sample 46  belongs to gesture: MoveRight\n",
      "test sample 47  belongs to gesture: MoveDown\n",
      "test sample 48  belongs to gesture: MoveDown\n",
      "test sample 49  belongs to gesture: MoveDown\n",
      "test sample 50  belongs to gesture: MoveRight\n",
      "test sample 51  belongs to gesture: MoveRight\n",
      "test sample 52  belongs to gesture: MoveUp\n",
      "test sample 53  belongs to gesture: MoveUp\n",
      "test sample 54  belongs to gesture: MoveRight\n",
      "test sample 55  belongs to gesture: MoveRight\n",
      "test sample 56  belongs to gesture: MoveUp\n",
      "test sample 57  belongs to gesture: MoveUp\n",
      "test sample 58  belongs to gesture: MoveUp\n",
      "test sample 59  belongs to gesture: MoveRight\n",
      "test sample 60  belongs to gesture: MoveUp\n",
      "test sample 61  belongs to gesture: MoveUp\n",
      "test sample 62  belongs to gesture: MoveUp\n",
      "test sample 63  belongs to gesture: Press\n",
      "test sample 64  belongs to gesture: MoveDown\n",
      "test sample 65  belongs to gesture: MoveRight\n",
      "test sample 66  belongs to gesture: Press\n",
      "test sample 67  belongs to gesture: MoveUp\n",
      "test sample 68  belongs to gesture: MoveUp\n",
      "test sample 69  belongs to gesture: MoveUp\n",
      "test sample 70  belongs to gesture: Press\n"
     ]
    }
   ],
   "source": [
    "#finding the best configuration\n",
    "#with number of components=5\n",
    "model1 = GaussianHMM(n_components=5)\n",
    "model2 = GaussianHMM(n_components=5)\n",
    "model3 = GaussianHMM(n_components=5)\n",
    "model4 = GaussianHMM(n_components=5)\n",
    "model5 = GaussianHMM(n_components=5)\n",
    "model6 = GaussianHMM(n_components=5)\n",
    "model7 = GaussianHMM(n_components=5)\n",
    "models=[model1,model2,model3,model4,model5,model6,model7]\n",
    "model1.fit(model1_train.reshape(-1,4),lengths=30)\n",
    "model2.fit(model2_train.reshape(-1,4),lengths=30)\n",
    "model3.fit(model3_train.reshape(-1,4),lengths=30)\n",
    "model4.fit(model4_train.reshape(-1,4),lengths=30)\n",
    "model5.fit(model5_train.reshape(-1,4),lengths=30)\n",
    "model6.fit(model6_train.reshape(-1,4),lengths=30)\n",
    "model7.fit(model7_train.reshape(-1,4),lengths=30)\n",
    "c={0:'ZoomIn',1:'ZoomOut',2:'MoveLeft',3:'MoveRight',4:'MoveDown',5:'MoveUp',6:'Press'}\n",
    "succ=0\n",
    "for ind,i in enumerate(concat_test):\n",
    "    max_model=float('-inf')\n",
    "    max_score=float('-inf')\n",
    "    for index,j in enumerate(models):\n",
    "        if j.score(i) > max_score:\n",
    "            max_score=j.score(i)\n",
    "            max_model=index\n",
    "            \n",
    "            \n",
    "    if(ind<10):\n",
    "        if(max_model==0):\n",
    "            succ+=1\n",
    "            \n",
    "    elif(ind>=10 and ind<20):\n",
    "        if(max_model==1):\n",
    "            succ+=1\n",
    "            \n",
    "    elif(ind>=20 and ind<30):\n",
    "        if(max_model==2):\n",
    "            succ+=1\n",
    "            \n",
    "    elif(ind>=30 and ind<40):\n",
    "        if(max_model==3):\n",
    "            succ+=1\n",
    "            \n",
    "    elif(ind>=40 and ind<50):\n",
    "        if(max_model==4):\n",
    "            succ+=1\n",
    "            \n",
    "    elif(ind>=50 and ind<60):\n",
    "        if(max_model==5):\n",
    "            succ+=1\n",
    "            \n",
    "    elif(ind>=60 and ind<70):\n",
    "        if(max_model==6):\n",
    "            succ+=1\n",
    "        \n",
    "    print('test sample',ind+1,' belongs to gesture:',dc[max_model])"
   ]
  },
  {
   "cell_type": "code",
   "execution_count": 75,
   "id": "878866e6",
   "metadata": {},
   "outputs": [
    {
     "name": "stdout",
     "output_type": "stream",
     "text": [
      "The number of successes: 49\n",
      "The accuracy of prediction with number of components=5 70.0\n"
     ]
    }
   ],
   "source": [
    "print('The number of successes:',succ)\n",
    "print('The accuracy of prediction with number of components=5',succ/70*100)"
   ]
  },
  {
   "cell_type": "code",
   "execution_count": 35,
   "id": "ac96a924",
   "metadata": {},
   "outputs": [],
   "source": [
    "#Sampling from the HMM"
   ]
  },
  {
   "cell_type": "code",
   "execution_count": 36,
   "id": "cbd8f47d",
   "metadata": {},
   "outputs": [],
   "source": [
    "s_1=model1.sample(n_samples=10, random_state=None, currstate=None)"
   ]
  },
  {
   "cell_type": "code",
   "execution_count": 37,
   "id": "e8dc6925",
   "metadata": {},
   "outputs": [
    {
     "name": "stdout",
     "output_type": "stream",
     "text": [
      "Sample generated\n",
      "(array([[0.47280192, 0.36048622, 0.73038835, 0.37997217],\n",
      "       [0.4844194 , 0.3596069 , 0.79407057, 0.36897502],\n",
      "       [0.40795506, 0.35729832, 0.7261803 , 0.35052241],\n",
      "       [0.42341726, 0.39874429, 0.74556424, 0.38404992],\n",
      "       [0.44039927, 0.3885217 , 0.7774751 , 0.40938164],\n",
      "       [0.41650603, 0.35470668, 0.71311107, 0.39257471],\n",
      "       [0.45650326, 0.35876532, 0.7890013 , 0.35926557],\n",
      "       [0.43940439, 0.37578171, 0.80552582, 0.41090017],\n",
      "       [0.48393064, 0.36710989, 0.77902624, 0.40865484],\n",
      "       [0.45593236, 0.33560078, 0.90311998, 0.38659735]]), array([0, 0, 0, 0, 0, 0, 0, 0, 0, 0]))\n"
     ]
    }
   ],
   "source": [
    "print('Sample generated')\n",
    "print(s_1)"
   ]
  },
  {
   "cell_type": "code",
   "execution_count": 38,
   "id": "63f83323",
   "metadata": {},
   "outputs": [
    {
     "name": "stdout",
     "output_type": "stream",
     "text": [
      "Training data\n"
     ]
    }
   ],
   "source": [
    "print('Training data')"
   ]
  },
  {
   "cell_type": "code",
   "execution_count": 39,
   "id": "e4c09e38",
   "metadata": {},
   "outputs": [
    {
     "name": "stdout",
     "output_type": "stream",
     "text": [
      "[[0.47514911 0.36779324 0.72564612 0.37375746]\n",
      " [0.47316103 0.36580517 0.72763419 0.37375746]\n",
      " [0.47316103 0.36580517 0.72763419 0.37375746]\n",
      " [0.47316103 0.36580517 0.72564612 0.37574553]\n",
      " [0.47316103 0.36978131 0.72763419 0.37574553]\n",
      " [0.47514911 0.36978131 0.72365805 0.38369781]\n",
      " [0.47713718 0.37176938 0.72365805 0.37972167]\n",
      " [0.47713718 0.37176938 0.72365805 0.37972167]\n",
      " [0.47713718 0.37176938 0.72166998 0.38170974]\n",
      " [0.47713718 0.36978131 0.72365805 0.38170974]]\n"
     ]
    }
   ],
   "source": [
    "print(model1_train[0][:10])"
   ]
  },
  {
   "cell_type": "code",
   "execution_count": 40,
   "id": "dff86226",
   "metadata": {},
   "outputs": [],
   "source": [
    "s_2=model2.sample(n_samples=10, random_state=None, currstate=None)"
   ]
  },
  {
   "cell_type": "code",
   "execution_count": 41,
   "id": "8a4ca969",
   "metadata": {},
   "outputs": [
    {
     "name": "stdout",
     "output_type": "stream",
     "text": [
      "Sample generated\n",
      "(array([[0.35504121, 0.38605896, 0.80148308, 0.4014357 ],\n",
      "       [0.34420025, 0.39920063, 0.77042447, 0.42513067],\n",
      "       [0.3629946 , 0.3871849 , 0.81993541, 0.43571114],\n",
      "       [0.34694957, 0.38834559, 0.79689484, 0.40058136],\n",
      "       [0.35418001, 0.40557597, 0.80312476, 0.40023417],\n",
      "       [0.28289976, 0.38750918, 0.85167285, 0.41431349],\n",
      "       [0.34055821, 0.3831918 , 0.81237469, 0.40217985],\n",
      "       [0.34849413, 0.4275524 , 0.76942679, 0.44563264],\n",
      "       [0.34746276, 0.39825751, 0.81685506, 0.40154303],\n",
      "       [0.37907157, 0.36946359, 0.83344292, 0.45133848]]), array([0, 0, 0, 0, 0, 0, 0, 0, 0, 0]))\n"
     ]
    }
   ],
   "source": [
    "print('Sample generated')\n",
    "print(s_2)"
   ]
  },
  {
   "cell_type": "code",
   "execution_count": 42,
   "id": "7bb3d8f2",
   "metadata": {},
   "outputs": [
    {
     "name": "stdout",
     "output_type": "stream",
     "text": [
      "Training data\n",
      "[[0.31212724 0.39761431 0.84095427 0.42345924]\n",
      " [0.31212724 0.39761431 0.84294235 0.41749503]\n",
      " [0.31411531 0.39960239 0.84095427 0.42147117]\n",
      " [0.31610338 0.39761431 0.84095427 0.42147117]\n",
      " [0.31610338 0.39960239 0.83697813 0.42345924]\n",
      " [0.31610338 0.39960239 0.83499006 0.42544732]\n",
      " [0.31809145 0.40159046 0.83697813 0.42345924]\n",
      " [0.31809145 0.40357853 0.83697813 0.42147117]\n",
      " [0.31809145 0.40159046 0.83697813 0.4194831 ]\n",
      " [0.31809145 0.40357853 0.83697813 0.4194831 ]]\n"
     ]
    }
   ],
   "source": [
    "print('Training data')\n",
    "print(model2_train[0][:10])"
   ]
  },
  {
   "cell_type": "code",
   "execution_count": 43,
   "id": "fdb01ce6",
   "metadata": {},
   "outputs": [],
   "source": [
    "s_3=model3.sample(n_samples=40, random_state=None, currstate=None)"
   ]
  },
  {
   "cell_type": "code",
   "execution_count": 44,
   "id": "e805565c",
   "metadata": {},
   "outputs": [],
   "source": [
    "s_4=model4.sample(n_samples=40, random_state=None, currstate=None)"
   ]
  },
  {
   "cell_type": "code",
   "execution_count": 45,
   "id": "e1355833",
   "metadata": {},
   "outputs": [],
   "source": [
    "s_5=model5.sample(n_samples=40, random_state=None, currstate=None)"
   ]
  },
  {
   "cell_type": "code",
   "execution_count": 46,
   "id": "6ba9f773",
   "metadata": {},
   "outputs": [],
   "source": [
    "s_6=model6.sample(n_samples=40, random_state=None, currstate=None)"
   ]
  },
  {
   "cell_type": "code",
   "execution_count": 47,
   "id": "91047d9a",
   "metadata": {},
   "outputs": [],
   "source": [
    "s_7=model7.sample(n_samples=40, random_state=None, currstate=None)"
   ]
  },
  {
   "cell_type": "code",
   "execution_count": 48,
   "id": "da48dcb6",
   "metadata": {},
   "outputs": [
    {
     "data": {
      "image/png": "[encoded data removed]",
      "text/plain": [
       "<Figure size 432x288 with 1 Axes>"
      ]
     },
     "metadata": {
      "needs_background": "light"
     },
     "output_type": "display_data"
    }
   ],
   "source": [
    "fig=plt.figure()\n",
    "ax=fig.add_subplot(projection='3d')\n",
    "for i in range(len(s_1)):\n",
    "    ax.scatter(s_1[i][0],s_1[i][1],c='b')\n",
    "    ax.scatter(s_1[i][2],s_1[i][3],c='r')"
   ]
  },
  {
   "cell_type": "code",
   "execution_count": 49,
   "id": "f89f6c5b",
   "metadata": {},
   "outputs": [
    {
     "data": {
      "image/png": "[encoded data removed]",
      "text/plain": [
       "<Figure size 432x288 with 1 Axes>"
      ]
     },
     "metadata": {
      "needs_background": "light"
     },
     "output_type": "display_data"
    }
   ],
   "source": [
    "fig=plt.figure()\n",
    "ax=fig.add_subplot(projection='3d')\n",
    "for i in range(len(s_2)):\n",
    "    ax.scatter(s_2[i][0],s_2[i][1],c='b')\n",
    "    ax.scatter(s_2[i][2],s_2[i][3],c='r')"
   ]
  },
  {
   "cell_type": "code",
   "execution_count": 50,
   "id": "6376c7f4",
   "metadata": {},
   "outputs": [
    {
     "data": {
      "image/png": "[encoded data removed]",
      "text/plain": [
       "<Figure size 432x288 with 1 Axes>"
      ]
     },
     "metadata": {
      "needs_background": "light"
     },
     "output_type": "display_data"
    }
   ],
   "source": [
    "fig=plt.figure()\n",
    "ax=fig.add_subplot(projection='3d')\n",
    "for i in range(len(s_3)):\n",
    "    ax.scatter(s_3[i][0],s_3[i][1],c='b')\n",
    "    ax.scatter(s_3[i][2],s_3[i][3],c='r')"
   ]
  },
  {
   "cell_type": "code",
   "execution_count": 51,
   "id": "b6db7200",
   "metadata": {},
   "outputs": [
    {
     "data": {
      "image/png": "[encoded data removed]",
      "text/plain": [
       "<Figure size 432x288 with 1 Axes>"
      ]
     },
     "metadata": {
      "needs_background": "light"
     },
     "output_type": "display_data"
    }
   ],
   "source": [
    "fig=plt.figure()\n",
    "ax=fig.add_subplot(projection='3d')\n",
    "for i in range(len(s_4)):\n",
    "    ax.scatter(s_4[i][0],s_4[i][1],c='b')\n",
    "    ax.scatter(s_4[i][2],s_4[i][3],c='r')"
   ]
  },
  {
   "cell_type": "code",
   "execution_count": 52,
   "id": "d10d5ec5",
   "metadata": {},
   "outputs": [
    {
     "data": {
      "image/png": "[encoded data removed]",
      "text/plain": [
       "<Figure size 432x288 with 1 Axes>"
      ]
     },
     "metadata": {
      "needs_background": "light"
     },
     "output_type": "display_data"
    }
   ],
   "source": [
    "fig=plt.figure()\n",
    "ax=fig.add_subplot(projection='3d')\n",
    "for i in range(len(s_5)):\n",
    "    ax.scatter(s_5[i][0],s_5[i][1],c='b')\n",
    "    ax.scatter(s_5[i][2],s_5[i][3],c='r')"
   ]
  },
  {
   "cell_type": "code",
   "execution_count": 53,
   "id": "3c37f8c1",
   "metadata": {},
   "outputs": [
    {
     "data": {
      "image/png": "[encoded data removed]",
      "text/plain": [
       "<Figure size 432x288 with 1 Axes>"
      ]
     },
     "metadata": {
      "needs_background": "light"
     },
     "output_type": "display_data"
    }
   ],
   "source": [
    "fig=plt.figure()\n",
    "ax=fig.add_subplot(projection='3d')\n",
    "for i in range(len(s_6)):\n",
    "    ax.scatter(s_6[i][0],s_6[i][1],c='b')\n",
    "    ax.scatter(s_6[i][2],s_6[i][3],c='r')"
   ]
  },
  {
   "cell_type": "code",
   "execution_count": 54,
   "id": "2d5ee69e",
   "metadata": {},
   "outputs": [
    {
     "data": {
      "image/png": "[encoded data removed]",
      "text/plain": [
       "<Figure size 432x288 with 1 Axes>"
      ]
     },
     "metadata": {
      "needs_background": "light"
     },
     "output_type": "display_data"
    }
   ],
   "source": [
    "fig=plt.figure()\n",
    "ax=fig.add_subplot(projection='3d')\n",
    "for i in range(len(s_7)):\n",
    "    ax.scatter(s_7[i][0],s_7[i][1],c='b')\n",
    "    ax.scatter(s_7[i][2],s_7[i][3],c='r')"
   ]
  },
  {
   "cell_type": "code",
   "execution_count": 55,
   "id": "27fae037",
   "metadata": {},
   "outputs": [
    {
     "data": {
      "text/plain": [
       "{'algorithm': 'viterbi',\n",
       " 'covariance_type': 'diag',\n",
       " 'covars_prior': 0.01,\n",
       " 'covars_weight': 1,\n",
       " 'implementation': 'log',\n",
       " 'init_params': 'stmc',\n",
       " 'means_prior': 0,\n",
       " 'means_weight': 0,\n",
       " 'min_covar': 0.001,\n",
       " 'n_components': 5,\n",
       " 'n_iter': 10,\n",
       " 'params': 'stmc',\n",
       " 'random_state': None,\n",
       " 'startprob_prior': 1.0,\n",
       " 'tol': 0.01,\n",
       " 'transmat_prior': 1.0,\n",
       " 'verbose': False}"
      ]
     },
     "execution_count": 55,
     "metadata": {},
     "output_type": "execute_result"
    }
   ],
   "source": [
    "model1.get_params()"
   ]
  },
  {
   "cell_type": "code",
   "execution_count": 56,
   "id": "c2853dcb",
   "metadata": {},
   "outputs": [],
   "source": [
    "#forward algorithm"
   ]
  },
  {
   "cell_type": "code",
   "execution_count": 57,
   "id": "5dbd1cf2",
   "metadata": {},
   "outputs": [],
   "source": [
    "a=model1.transmat_\n",
    "\n",
    "b=model1.means_\n",
    "initial_distribution=model1.startprob_\n",
    "#model1.startprob_\n",
    "covariance=model1.covars_"
   ]
  },
  {
   "cell_type": "code",
   "execution_count": 58,
   "id": "1db56fec",
   "metadata": {},
   "outputs": [
    {
     "name": "stdout",
     "output_type": "stream",
     "text": [
      "[[4.55599735e-001 4.81847135e-106 8.68451999e-053 8.07203039e-091\n",
      "  1.91166541e-028]\n",
      " [2.07571118e-001 1.60284465e-104 3.21788630e-051 2.07809210e-089\n",
      "  5.53357302e-027]\n",
      " [9.45693465e-002 7.30255596e-105 1.46606814e-051 9.46778208e-090\n",
      "  2.52109440e-027]\n",
      " [4.30857692e-002 3.32704256e-105 6.67940258e-052 4.31351901e-090\n",
      "  1.14860994e-027]\n",
      " [1.96298650e-002 1.51579971e-105 3.04313404e-052 1.96523812e-090\n",
      "  5.23306384e-028]\n",
      " [8.94336131e-003 6.90597946e-106 1.38645106e-052 8.95361965e-091\n",
      "  2.38418250e-028]\n",
      " [4.07459304e-003 3.14636241e-106 6.31666737e-053 4.07926674e-091\n",
      "  1.08623292e-028]\n",
      " [1.85638351e-003 1.43348188e-106 2.87787198e-053 1.85851284e-091\n",
      "  4.94887428e-029]\n",
      " [8.45767835e-004 6.53093964e-107 1.31115771e-053 8.46737959e-092\n",
      "  2.25470581e-029]\n",
      " [3.85331601e-004 2.97549437e-107 5.97363106e-054 3.85773590e-092\n",
      "  1.02724337e-029]\n",
      " [1.75556975e-004 1.35563445e-107 2.72158473e-054 1.75758345e-092\n",
      "  4.68011807e-030]\n",
      " [7.99837115e-005 6.17626695e-108 1.23995328e-054 8.00754555e-093\n",
      "  2.13226055e-030]\n",
      " [3.64405577e-005 2.81390558e-108 5.64922385e-055 3.64823563e-093\n",
      "  9.71457342e-031]\n",
      " [1.66023084e-005 1.28201464e-108 2.57378489e-055 1.66213519e-093\n",
      "  4.42595708e-031]\n",
      " [7.56400733e-006 5.84085529e-109 1.17261571e-055 7.57268350e-094\n",
      "  2.01646487e-031]\n",
      " [3.44615973e-006 2.66109212e-109 5.34243408e-056 3.45011260e-094\n",
      "  9.18700861e-032]\n",
      " [1.57006946e-006 1.21239287e-109 2.43401155e-056 1.57187038e-094\n",
      "  4.18559869e-032]\n",
      " [7.15323230e-007 5.52365868e-110 1.10893502e-056 7.16143731e-095\n",
      "  1.90695765e-032]\n",
      " [3.25901074e-007 2.51657743e-110 5.05230500e-057 3.26274894e-095\n",
      "  8.68809401e-033]\n",
      " [1.48480443e-007 1.14655201e-110 2.30182882e-057 1.48650755e-095\n",
      "  3.95829333e-033]\n",
      " [6.76476505e-008 5.22368792e-111 1.04871260e-057 6.77252446e-096\n",
      "  1.80339739e-033]\n",
      " [3.08202516e-008 2.37991083e-111 4.77793183e-058 3.08556035e-096\n",
      "  8.21627373e-034]\n",
      " [1.40416985e-008 1.08428674e-111 2.17682447e-058 1.40578048e-096\n",
      "  3.74333213e-034]\n",
      " [6.39739410e-009 4.94000753e-112 9.91760653e-059 6.40473213e-097\n",
      "  1.70546113e-034]\n",
      " [2.91465106e-009 2.25066612e-112 4.51845891e-059 2.91799426e-097\n",
      "  7.77007638e-035]\n",
      " [1.32791425e-009 1.02540289e-112 2.05860868e-059 1.32943741e-097\n",
      "  3.54004474e-035]\n",
      " [6.04997380e-010 4.67173284e-113 9.37901569e-060 6.05691332e-098\n",
      "  1.61284344e-035]\n",
      " [2.75636646e-010 2.12844025e-113 4.27307706e-060 2.75952810e-098\n",
      "  7.34811046e-036]\n",
      " [1.25579983e-010 9.69716811e-114 1.94681278e-060 1.25724027e-098\n",
      "  3.34779718e-036]\n",
      " [5.72142069e-011 4.41802722e-114 8.86967385e-061 5.72798335e-099\n",
      "  1.52525551e-036]\n",
      " [2.60667775e-011 2.01285203e-114 4.04102106e-061 2.60966770e-099\n",
      "  6.94906004e-037]\n",
      " [1.18760169e-011 9.17054852e-115 1.84108812e-061 1.18896391e-099\n",
      "  3.16598991e-037]\n",
      " [5.41071016e-012 4.17809947e-115 8.38799260e-062 5.41691643e-100\n",
      "  1.44242417e-037]\n",
      " [2.46511811e-012 1.90354101e-115 3.82156721e-062 2.46794569e-100\n",
      "  6.57168067e-038]\n",
      " [1.12310716e-012 8.67252781e-116 1.74110501e-062 1.12439540e-100\n",
      "  2.99405597e-038]\n",
      " [5.11687324e-013 3.95120137e-116 7.93246979e-063 5.12274247e-101\n",
      "  1.36409111e-038]\n",
      " [2.33124609e-013 1.80016630e-116 3.61403114e-063 2.33392011e-101\n",
      "  6.21479547e-039]\n",
      " [1.06211510e-013 8.20155288e-117 1.64655163e-063 1.06333338e-101\n",
      "  2.83145917e-039]\n",
      " [4.83899358e-014 3.73662532e-117 7.50168485e-064 4.84454408e-102\n",
      "  1.29001205e-039]\n",
      " [2.20464419e-014 1.70240550e-117 3.41776563e-064 2.20717300e-102\n",
      "  5.87729147e-040]\n",
      " [1.00443531e-014 7.75615496e-118 1.55713311e-064 1.00558743e-102\n",
      "  2.67769243e-040]\n",
      " [4.57620461e-015 3.53370215e-118 7.09429434e-065 4.58145368e-103\n",
      "  1.21995596e-040]\n",
      " [2.08491761e-015 1.60995376e-118 3.23215862e-065 2.08730908e-103\n",
      "  5.55811613e-041]\n",
      " [9.49887910e-016 7.33494507e-119 1.47257061e-065 9.50977464e-104\n",
      "  2.53227624e-041]\n",
      " [4.32768680e-016 3.34179903e-119 6.70902780e-066 4.33265080e-104\n",
      "  1.15370438e-041]\n",
      " [1.97169296e-016 1.52252275e-119 3.05663129e-066 1.97395456e-104\n",
      "  5.25627411e-042]\n",
      " [8.98302789e-017 6.93660962e-120 1.39260040e-066 8.99333173e-105\n",
      "  2.39475709e-042]\n",
      " [4.09266513e-017 3.16031750e-120 6.34468375e-067 4.09735955e-105\n",
      "  1.09105070e-042]\n",
      " [1.86461715e-017 1.43983982e-120 2.89063624e-067 1.86675593e-105\n",
      "  4.97082408e-043]\n",
      " [8.49519078e-018 6.55990639e-121 1.31697310e-067 8.50493505e-106\n",
      "  2.26470613e-043]\n",
      " [3.87040667e-018 2.98869161e-121 6.00012597e-068 3.87484616e-106\n",
      "  1.03179951e-043]\n",
      " [1.76335625e-018 1.36164711e-121 2.73365580e-068 1.76537888e-106\n",
      "  4.70087585e-044]\n",
      " [8.03384641e-019 6.20366061e-122 1.24545286e-068 8.04306150e-107\n",
      "  2.14171779e-044]\n",
      " [3.66021829e-019 2.82638613e-122 5.67427992e-069 3.66441669e-107\n",
      "  9.75766057e-045]\n",
      " [1.66759448e-019 1.28770077e-122 2.58520043e-069 1.66950727e-107\n",
      "  4.44558757e-045]\n",
      " [7.59755605e-020 5.86676130e-123 1.17781663e-069 7.60627071e-108\n",
      "  2.02540852e-045]\n",
      " [3.46144452e-020 2.67289489e-123 5.36612944e-070 3.46541492e-108\n",
      "  9.22775584e-046]\n",
      " [1.57703321e-020 1.21777020e-123 2.44480715e-070 1.57884212e-108\n",
      "  4.20416312e-046]\n",
      " [7.18495911e-021 5.54815782e-124 1.11385349e-070 7.19320050e-109\n",
      "  1.91541560e-046]\n",
      " [3.27346547e-021 2.52773923e-124 5.07471355e-071 3.27722024e-109\n",
      "  8.72662840e-047]\n",
      " [1.49139000e-021 1.15163732e-124 2.31203815e-071 1.49310067e-109\n",
      "  3.97584959e-047]\n",
      " [6.79476888e-022 5.24685660e-125 1.05336397e-071 6.80256271e-110\n",
      "  1.81139602e-047]\n",
      " [3.09569490e-022 2.39046648e-125 4.79912344e-072 3.09924577e-110\n",
      "  8.25271546e-048]\n",
      " [1.41039778e-022 1.08909589e-125 2.18647937e-072 1.41201555e-110\n",
      "  3.75993497e-048]\n",
      " [6.42576853e-023 4.96191800e-126 9.96159420e-073 6.43313911e-111\n",
      "  1.71302538e-048]\n",
      " [2.92757844e-023 2.26064853e-126 4.53849968e-073 2.93093647e-111\n",
      "  7.80453908e-049]\n",
      " [1.33380396e-023 1.02995087e-126 2.06773925e-073 1.33533388e-111\n",
      "  3.55574594e-049]\n",
      " [6.07680731e-024 4.69245343e-127 9.42061454e-074 6.08377762e-112\n",
      "  1.61999691e-049]\n",
      " [2.76859180e-024 2.13788054e-127 4.29202949e-074 2.77176747e-112\n",
      "  7.38070161e-050]\n",
      " [1.26136969e-024 9.74017807e-128 1.95544750e-074 1.26281652e-112\n",
      "  3.36264570e-050]\n",
      " [5.74679696e-025 4.43762255e-128 8.90901361e-075 5.75338874e-113\n",
      "  1.53202049e-050]\n",
      " [2.61823917e-025 2.02177966e-128 4.05894424e-075 2.62124238e-113\n",
      "  6.97988128e-051]\n",
      " [1.19286907e-025 9.21122275e-129 1.84925392e-075 1.19423733e-113\n",
      "  3.18003206e-051]\n",
      " [5.43470834e-026 4.19663064e-129 8.42519596e-076 5.44094213e-114\n",
      "  1.44882176e-051]\n",
      " [2.47605168e-026 1.91198381e-129 3.83851704e-076 2.47889179e-114\n",
      "  6.60082812e-052]\n",
      " [1.12808849e-026 8.71099316e-130 1.74882735e-076 1.12938244e-114\n",
      "  3.00733554e-052]\n",
      " [5.13956816e-027 3.96872618e-130 7.96765276e-077 5.14546342e-115\n",
      "  1.37014128e-052]\n",
      " [2.34158589e-027 1.80815059e-130 3.63006049e-077 2.34427177e-115\n",
      "  6.24236002e-053]\n",
      " [1.06682591e-027 8.23792931e-131 1.65385460e-077 1.06804960e-115\n",
      "  2.84401757e-053]\n",
      " [4.86045602e-028 3.75319841e-131 7.53495715e-078 4.86603113e-116\n",
      "  1.29573365e-053]\n",
      " [2.21442248e-028 1.70995620e-131 3.43292448e-078 2.21696249e-116\n",
      "  5.90335908e-054]\n",
      " [1.00889029e-028 7.79055592e-132 1.56403948e-078 1.01004752e-116\n",
      "  2.68956883e-054]\n",
      " [4.59650150e-029 3.54937521e-132 7.12575974e-079 4.60177385e-117\n",
      "  1.22536685e-054]\n",
      " [2.09416487e-029 1.61709441e-132 3.24649425e-079 2.09656694e-117\n",
      "  5.58276810e-055]\n",
      " [9.54100958e-030 7.36747783e-133 1.47910192e-079 9.55195344e-118\n",
      "  2.54350767e-055]\n",
      " [4.34688143e-030 3.35662095e-133 6.73878442e-080 4.35186746e-118\n",
      "  1.15882142e-055]\n",
      " [1.98043803e-030 1.52927561e-133 3.07018840e-080 1.98270966e-118\n",
      "  5.27958732e-056]\n",
      " [9.02287041e-031 6.96737564e-134 1.39877702e-080 9.03321995e-119\n",
      "  2.40537858e-056]\n",
      " [4.11081737e-031 3.17433449e-134 6.37282440e-081 4.11553262e-119\n",
      "  1.09588984e-056]\n",
      " [1.87288730e-031 1.44622595e-134 2.90345711e-081 1.87503557e-119\n",
      "  4.99287123e-057]\n",
      " [8.53286959e-032 6.58900161e-135 1.32281429e-081 8.54265708e-120\n",
      "  2.27475081e-057]\n",
      " [3.88757312e-032 3.00194739e-135 6.02673839e-082 3.89203230e-120\n",
      "  1.03637586e-057]\n",
      " [1.77117728e-032 1.36768643e-135 2.74578041e-082 1.77320889e-120\n",
      "  4.72172569e-058]\n",
      " [8.06947901e-033 6.23117577e-136 1.25097683e-082 8.07873498e-121\n",
      "  2.15121697e-058]\n",
      " [3.67645250e-033 2.83892203e-136 5.69944711e-083 3.68066952e-121\n",
      "  9.80093883e-059]\n",
      " [1.67499078e-033 1.29341212e-136 2.59666659e-083 1.67691206e-121\n",
      "  4.46530513e-059]\n",
      " [7.63125357e-034 5.89278221e-137 1.18304061e-083 7.64000688e-122\n",
      "  2.03439183e-059]\n",
      " [3.47679710e-034 2.68475001e-137 5.38992989e-084 3.48078511e-122\n",
      "  9.26868381e-060]\n",
      " [1.58402784e-034 1.22317139e-137 2.45565063e-084 1.58584477e-122\n",
      "  4.22280989e-060]\n",
      " [7.21682664e-035 5.57276563e-138 1.11879378e-084 7.22510458e-123\n",
      "  1.92391106e-060]\n",
      " [3.28798430e-035 2.53895054e-138 5.09722148e-085 3.29175573e-123\n",
      "  8.76533371e-061]\n",
      " [1.49800478e-035 1.15674519e-138 2.32229275e-085 1.49972304e-123\n",
      "  3.99348371e-061]\n",
      " [6.82490579e-036 5.27012804e-139 1.05803596e-085 6.83273419e-124\n",
      "  1.81943012e-061]\n",
      " [3.10942527e-036 2.40106894e-139 4.82040904e-086 3.11299189e-124\n",
      "  8.28931881e-062]\n",
      " [1.41665333e-036 1.09392637e-139 2.19617708e-086 1.41827828e-124\n",
      "  3.77661145e-062]\n",
      " [6.45426881e-037 4.98392565e-140 1.00057770e-086 6.46167208e-125\n",
      "  1.72062318e-062]\n",
      " [2.94056316e-037 2.27067520e-140 4.55862933e-087 2.94393609e-125\n",
      "  7.83915463e-063]\n",
      " [1.33971980e-037 1.03451902e-140 2.07691032e-087 1.34125650e-125\n",
      "  3.57151677e-063]\n",
      " [6.10375984e-038 4.71326592e-141 9.46239789e-088 6.11076106e-126\n",
      "  1.62718210e-063]\n",
      " [2.78087136e-038 2.14736270e-141 4.31106597e-088 2.78406112e-126\n",
      "  7.41343731e-064]\n",
      " [1.26696426e-038 9.78337878e-142 1.96412051e-088 1.26841751e-126\n",
      "  3.37756007e-064]\n",
      " [5.77228579e-039 4.45730478e-142 8.94852785e-089 5.77890680e-127\n",
      "  1.53881547e-064]\n",
      " [2.62985188e-039 2.03074688e-142 4.07694692e-089 2.63286841e-127\n",
      "  7.01083922e-065]\n",
      " [1.19815982e-039 9.25207738e-143 1.85745594e-089 1.19953415e-127\n",
      "  3.19413649e-065]\n",
      " [5.45881296e-040 4.21524400e-143 8.46256432e-090 5.46507440e-128\n",
      "  1.45524774e-065]\n",
      " [2.48703374e-040 1.92046405e-143 3.85554206e-090 2.48988645e-128\n",
      "  6.63010484e-066]\n",
      " [1.13309191e-040 8.74962912e-144 1.75658394e-090 1.13439161e-128\n",
      "  3.02067401e-066]\n",
      " [5.16236374e-041 3.98632871e-144 8.00299178e-091 5.16828515e-129\n",
      "  1.37621828e-066]\n",
      " [2.35197155e-041 1.81617030e-144 3.64616093e-091 2.35466934e-129\n",
      "  6.27004682e-067]\n",
      " [1.07155762e-041 8.27446709e-145 1.66118995e-091 1.07278673e-129\n",
      "  2.85663167e-067]]\n"
     ]
    }
   ],
   "source": [
    "#V = np.array([0, 1, 1, 2, 0, 1, 2, 0, 1, 0, 2]) \n",
    "V = np.array(model1_test[1].reshape(-1)).astype(int)\n",
    "# Transition Probabilities\n",
    "a = a\n",
    "\n",
    "# Emission Probabilities\n",
    "b = b\n",
    "\n",
    "# # Equal Probabilities for the initial distribution\n",
    "pi = initial_distribution\n",
    "\n",
    "def forward(V, a, b, pi):\n",
    "    p = 1\n",
    "    alpha = np.zeros((V.shape[0], a.shape[0]))\n",
    "    alpha[0, :] = pi * b[:, V[0]]\n",
    "\n",
    "    for t in range(1, V.shape[0]):\n",
    "        probability_of_observation = 0 #my code\n",
    "        for j in range(a.shape[0]):\n",
    "            alpha[t, j] = alpha[t - 1].dot(a[:, j]) * b[j, V[t]]\n",
    "\n",
    "    return alpha #changed\n",
    "\n",
    "alpha = forward(V, a, b, pi)\n",
    "print(alpha)"
   ]
  },
  {
   "cell_type": "code",
   "execution_count": null,
   "id": "d3f0b622",
   "metadata": {},
   "outputs": [],
   "source": []
  },
  {
   "cell_type": "code",
   "execution_count": null,
   "id": "309f9d79",
   "metadata": {},
   "outputs": [],
   "source": []
  },
  {
   "cell_type": "code",
   "execution_count": null,
   "id": "cd33a997",
   "metadata": {},
   "outputs": [],
   "source": []
  },
  {
   "cell_type": "code",
   "execution_count": null,
   "id": "b01a189f",
   "metadata": {},
   "outputs": [],
   "source": []
  },
  {
   "cell_type": "code",
   "execution_count": null,
   "id": "04937b84",
   "metadata": {},
   "outputs": [],
   "source": []
  },
  {
   "cell_type": "code",
   "execution_count": null,
   "id": "1644a2d0",
   "metadata": {},
   "outputs": [],
   "source": []
  },
  {
   "cell_type": "code",
   "execution_count": null,
   "id": "c094fa90",
   "metadata": {},
   "outputs": [],
   "source": []
  },
  {
   "cell_type": "code",
   "execution_count": null,
   "id": "3dafbf3c",
   "metadata": {},
   "outputs": [],
   "source": []
  },
  {
   "cell_type": "code",
   "execution_count": null,
   "id": "813d4465",
   "metadata": {},
   "outputs": [],
   "source": []
  },
  {
   "cell_type": "code",
   "execution_count": null,
   "id": "5bde6000",
   "metadata": {},
   "outputs": [],
   "source": []
  },
  {
   "cell_type": "code",
   "execution_count": null,
   "id": "a2bc7a12",
   "metadata": {},
   "outputs": [],
   "source": []
  },
  {
   "cell_type": "code",
   "execution_count": null,
   "id": "b7604170",
   "metadata": {},
   "outputs": [],
   "source": []
  },
  {
   "cell_type": "code",
   "execution_count": null,
   "id": "82cc668e",
   "metadata": {},
   "outputs": [],
   "source": []
  },
  {
   "cell_type": "code",
   "execution_count": null,
   "id": "80b19659",
   "metadata": {},
   "outputs": [],
   "source": []
  },
  {
   "cell_type": "code",
   "execution_count": null,
   "id": "d9c10c78",
   "metadata": {},
   "outputs": [],
   "source": []
  },
  {
   "cell_type": "code",
   "execution_count": null,
   "id": "53b8848f",
   "metadata": {},
   "outputs": [],
   "source": []
  },
  {
   "cell_type": "code",
   "execution_count": null,
   "id": "60c1899a",
   "metadata": {},
   "outputs": [],
   "source": []
  },
  {
   "cell_type": "code",
   "execution_count": null,
   "id": "35c81ad2",
   "metadata": {},
   "outputs": [],
   "source": []
  },
  {
   "cell_type": "code",
   "execution_count": null,
   "id": "f89ff141",
   "metadata": {},
   "outputs": [],
   "source": []
  }
 ],
 "metadata": {
  "kernelspec": {
   "display_name": "Python 3 (ipykernel)",
   "language": "python",
   "name": "python3"
  },
  "language_info": {
   "codemirror_mode": {
    "name": "ipython",
    "version": 3
   },
   "file_extension": ".py",
   "mimetype": "text/x-python",
   "name": "python",
   "nbconvert_exporter": "python",
   "pygments_lexer": "ipython3",
   "version": "3.7.11"
  }
 },
 "nbformat": 4,
 "nbformat_minor": 5
}
